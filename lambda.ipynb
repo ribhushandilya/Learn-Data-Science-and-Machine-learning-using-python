{
 "cells": [
  {
   "cell_type": "code",
   "execution_count": 3,
   "metadata": {},
   "outputs": [
    {
     "name": "stdout",
     "output_type": "stream",
     "text": [
      "7\n"
     ]
    }
   ],
   "source": [
    "def a(x, y): return x + y\n",
    "print(a(2, 5))\n"
   ]
  },
  {
   "cell_type": "code",
   "execution_count": 41,
   "metadata": {},
   "outputs": [
    {
     "name": "stdout",
     "output_type": "stream",
     "text": [
      "212319714\n"
     ]
    }
   ],
   "source": [
    "#Add the n numbers using 'args' inbuilt variable\n",
    "add= lambda *args: sum(args)\n",
    "print(add(234,1234,4123,212314123))\n",
    "\n"
   ]
  },
  {
   "cell_type": "code",
   "execution_count": 11,
   "metadata": {},
   "outputs": [
    {
     "data": {
      "text/plain": [
       "11"
      ]
     },
     "execution_count": 11,
     "metadata": {},
     "output_type": "execute_result"
    }
   ],
   "source": [
    "length=lambda x: len(x)\n",
    "length(\"Hello world\")"
   ]
  },
  {
   "cell_type": "code",
   "execution_count": 22,
   "metadata": {},
   "outputs": [
    {
     "name": "stdout",
     "output_type": "stream",
     "text": [
      "1 4 9 16 25 36 \n",
      " [4, 9, 16, 25, 36, 49, 64, 81, 100]\n"
     ]
    }
   ],
   "source": [
    "#Convert the ist of strings to their squares:\n",
    "str=[1,2,3,4,5,6]\n",
    "for i in str:\n",
    "    a=i**2\n",
    "    print(a ,end=\" \")\n",
    "\n",
    "#Now using the lambda function we'll do the same using map function\n",
    "str1=[2,3,4,5,6,7,8,9,10]\n",
    "sq=list(map(lambda x:x**2,str1)) \n",
    "print(\"\\n\",sq)\n"
   ]
  },
  {
   "cell_type": "code",
   "execution_count": 25,
   "metadata": {},
   "outputs": [
    {
     "name": "stdout",
     "output_type": "stream",
     "text": [
      "[2, 4, 2, 432, 2, 24, 434, 532, 12, 42, 1224]\n",
      "[False, True, True, True, False, False, True, False, False, True, True, False, False, False, False, True, True, False, True, True, True, False, False, False]\n",
      "[2, 4, 2, 432, 2, 24, 434, 532, 12, 42, 1224]\n"
     ]
    }
   ],
   "source": [
    "#Filter out the even numbers from the list.\n",
    "l1=[1,2,4,2,5,3,432,43,23,2,24,23,23,2323,121,434,532,2323,12,42,1224,42222221,423,1213]\n",
    "l2=[]\n",
    "for i in l1:\n",
    "    if i%2==0:\n",
    "       l2.append(i)\n",
    "    else:\n",
    "        continue\n",
    "print(l2)\n",
    "\n",
    "\n",
    "#using lambda function using map method.\n",
    "l1=[1,2,4,2,5,3,432,43,23,2,24,23,23,2323,121,434,532,2323,12,42,1224,42222221,423,1213]\n",
    "even=list(map(lambda x:x%2==0,l1))\n",
    "print(even)\n",
    "\n",
    "# Now using lambda function using filter method.\n",
    "l1=[1,2,4,2,5,3,432,43,23,2,24,23,23,2323,121,434,532,2323,12,42,1224,42222221,423,1213]\n",
    "even=list(filter(lambda x:x%2==0,l1))\n",
    "print(even)"
   ]
  },
  {
   "cell_type": "code",
   "execution_count": 27,
   "metadata": {},
   "outputs": [
    {
     "data": {
      "text/plain": [
       "['date', 'apple', 'cherry', 'grappes', 'guavava', 'elderberry']"
      ]
     },
     "execution_count": 27,
     "metadata": {},
     "output_type": "execute_result"
    }
   ],
   "source": [
    "#sort a list of characters by the alphabet and length of the word using lambda function.\n",
    "list1=[\"apple\",\"grappes\",\"date\",\"elderberry\",\"guavava\",\"cherry\"]\n",
    "sorted(list1,key=lambda x: len(x))"
   ]
  },
  {
   "cell_type": "code",
   "execution_count": 33,
   "metadata": {},
   "outputs": [
    {
     "data": {
      "text/plain": [
       "[{'name': 'Piyush',\n",
       "  'age': 19,\n",
       "  'address': 'shyam nagar',\n",
       "  'contact_no': '8257532596'},\n",
       " {'name': 'Jeetu', 'age': 21, 'address': 'hathoj', 'contact_no': '3224242635'},\n",
       " {'name': 'Nikhil',\n",
       "  'age': 21,\n",
       "  'address': 'govindpura',\n",
       "  'contact_no': '8653567776'},\n",
       " {'name': 'Ribhu', 'age': 25, 'address': 'benar', 'contact_no': '7425768643'}]"
      ]
     },
     "execution_count": 33,
     "metadata": {},
     "output_type": "execute_result"
    }
   ],
   "source": [
    "#Sort a dictionary of characters by using a specific keyword.\n",
    "\n",
    "people=[{'name':\"Jeetu\",'age':21,'address':\"hathoj\",'contact_no':\"3224242635\"},\n",
    "        {'name':\"Ribhu\",'age':25,'address':\"benar\",'contact_no':\"7425768643\"},\n",
    "        {'name':\"Piyush\",'age':19,'address':\"shyam nagar\",'contact_no':\"8257532596\"},\n",
    "        {'name':\"Nikhil\",'age':21,'address':\"govindpura\",'contact_no':\"8653567776\"}]\n",
    "#print(people)\n",
    "sorted(people,key=lambda x:x['age'])"
   ]
  },
  {
   "cell_type": "code",
   "execution_count": 37,
   "metadata": {},
   "outputs": [
    {
     "data": {
      "text/plain": [
       "'f'"
      ]
     },
     "execution_count": 37,
     "metadata": {},
     "output_type": "execute_result"
    }
   ],
   "source": [
    "#Find max value in the dictionary using lambda function.\n",
    "dict={'a':10,'b':30,'c':24,'d':44,'e':50,'f':76}\n",
    "max(dict,key=lambda x:dict[x])"
   ]
  },
  {
   "cell_type": "code",
   "execution_count": 45,
   "metadata": {},
   "outputs": [
    {
     "data": {
      "text/plain": [
       "400"
      ]
     },
     "execution_count": 45,
     "metadata": {},
     "output_type": "execute_result"
    }
   ],
   "source": [
    "#Function in the lambda function //Higher Order function.\n",
    "f1=lambda x,fun:fun(x)\n",
    "f1(20,lambda x:x*x)"
   ]
  },
  {
   "cell_type": "code",
   "execution_count": 52,
   "metadata": {},
   "outputs": [
    {
     "data": {
      "text/plain": [
       "'odd'"
      ]
     },
     "execution_count": 52,
     "metadata": {},
     "output_type": "execute_result"
    }
   ],
   "source": [
    "a=lambda x:(x%2 and 'odd' or 'even' )\n",
    "a(29)"
   ]
  }
 ],
 "metadata": {
  "kernelspec": {
   "display_name": "Python 3",
   "language": "python",
   "name": "python3"
  },
  "language_info": {
   "codemirror_mode": {
    "name": "ipython",
    "version": 3
   },
   "file_extension": ".py",
   "mimetype": "text/x-python",
   "name": "python",
   "nbconvert_exporter": "python",
   "pygments_lexer": "ipython3",
   "version": "3.9.13"
  }
 },
 "nbformat": 4,
 "nbformat_minor": 2
}
