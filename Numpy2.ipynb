{
 "cells": [
  {
   "cell_type": "code",
   "execution_count": 1,
   "id": "cd0b2c34-a550-495c-b9bb-f29208c124c5",
   "metadata": {},
   "outputs": [
    {
     "name": "stdout",
     "output_type": "stream",
     "text": [
      "Hello world!\n"
     ]
    }
   ],
   "source": [
    "print(\"Hello world!\")"
   ]
  },
  {
   "cell_type": "markdown",
   "id": "18a4ce7b-6450-48b2-ab66-63a72d45e56e",
   "metadata": {},
   "source": [
    "## Numpy operations"
   ]
  },
  {
   "cell_type": "code",
   "execution_count": 2,
   "id": "1a9d7827-0d13-4f71-a3cc-7504bdb1a0a6",
   "metadata": {},
   "outputs": [],
   "source": [
    "import numpy as np"
   ]
  },
  {
   "cell_type": "code",
   "execution_count": 3,
   "id": "f72c9999-5872-4e03-8a21-71197b67805f",
   "metadata": {},
   "outputs": [
    {
     "data": {
      "text/plain": [
       "array([[12, 14, 16, 18],\n",
       "       [20, 22, 24, 26],\n",
       "       [28, 30, 32, 34],\n",
       "       [36, 38, 40, 42],\n",
       "       [44, 46, 48, 50]])"
      ]
     },
     "execution_count": 3,
     "metadata": {},
     "output_type": "execute_result"
    }
   ],
   "source": [
    "#add\n",
    "arr1 = np.arange(1,21).reshape(5,4)\n",
    "arr2 = np.arange(11,31).reshape(5,4)\n",
    "#add = arr1 + arr2\n",
    "add = np.add(arr1,arr2)\n",
    "add"
   ]
  },
  {
   "cell_type": "code",
   "execution_count": 4,
   "id": "315bad18-5ba6-41c2-ab63-0e9529a3161a",
   "metadata": {},
   "outputs": [
    {
     "data": {
      "text/plain": [
       "array([[ 11,  24,  39,  56],\n",
       "       [ 75,  96, 119, 144],\n",
       "       [171, 200, 231, 264],\n",
       "       [299, 336, 375, 416],\n",
       "       [459, 504, 551, 600]])"
      ]
     },
     "execution_count": 4,
     "metadata": {},
     "output_type": "execute_result"
    }
   ],
   "source": [
    "#multiply\n",
    "product = np.multiply(arr1, arr2)\n",
    "#product = arr1 * arr2\n",
    "product"
   ]
  },
  {
   "cell_type": "code",
   "execution_count": 5,
   "id": "76fd2452-d4d0-432f-8876-eddf5badb077",
   "metadata": {},
   "outputs": [
    {
     "data": {
      "text/plain": [
       "array([[ 90,  96, 102],\n",
       "       [216, 231, 246],\n",
       "       [342, 366, 390]])"
      ]
     },
     "execution_count": 5,
     "metadata": {},
     "output_type": "execute_result"
    }
   ],
   "source": [
    "#matrix multiplication\n",
    "ar1 = np.arange(1,10).reshape(3,3)\n",
    "ar2 = np.arange(11,20).reshape(3,3)\n",
    "final_arr = ar1.dot(ar2)\n",
    "final_arr\n"
   ]
  },
  {
   "cell_type": "code",
   "execution_count": 6,
   "id": "a3d6fdad-2821-483c-9d00-2f2efa4ad25a",
   "metadata": {},
   "outputs": [
    {
     "data": {
      "text/plain": [
       "390"
      ]
     },
     "execution_count": 6,
     "metadata": {},
     "output_type": "execute_result"
    }
   ],
   "source": [
    "final_arr.max()"
   ]
  },
  {
   "cell_type": "code",
   "execution_count": 7,
   "id": "711525a5-c342-49c7-ac71-28efef24d265",
   "metadata": {},
   "outputs": [
    {
     "data": {
      "text/plain": [
       "90"
      ]
     },
     "execution_count": 7,
     "metadata": {},
     "output_type": "execute_result"
    }
   ],
   "source": [
    "final_arr.min()"
   ]
  },
  {
   "cell_type": "code",
   "execution_count": 8,
   "id": "37dfcff9-e6a5-4ba5-9590-3d4b66094198",
   "metadata": {},
   "outputs": [
    {
     "data": {
      "text/plain": [
       "111.06754701531857"
      ]
     },
     "execution_count": 8,
     "metadata": {},
     "output_type": "execute_result"
    }
   ],
   "source": [
    "final_arr.std()"
   ]
  },
  {
   "cell_type": "code",
   "execution_count": 9,
   "id": "71d95cb0-dabe-46e6-bd0a-9572f35cad18",
   "metadata": {},
   "outputs": [
    {
     "data": {
      "text/plain": [
       "array([342, 366, 390])"
      ]
     },
     "execution_count": 9,
     "metadata": {},
     "output_type": "execute_result"
    }
   ],
   "source": [
    "final_arr.mean()\n",
    "final_arr.max(axis = 0)"
   ]
  },
  {
   "cell_type": "code",
   "execution_count": 10,
   "id": "dffd594b-c155-4279-806b-94caa46708bf",
   "metadata": {},
   "outputs": [
    {
     "data": {
      "text/plain": [
       "8"
      ]
     },
     "execution_count": 10,
     "metadata": {},
     "output_type": "execute_result"
    }
   ],
   "source": [
    "final_arr.argmax()"
   ]
  },
  {
   "cell_type": "code",
   "execution_count": 11,
   "id": "05fbc72d-1e75-44cb-a73f-1f2c67fccb65",
   "metadata": {},
   "outputs": [
    {
     "data": {
      "text/plain": [
       "array([[ 9.48683298,  9.79795897, 10.09950494],\n",
       "       [14.69693846, 15.19868415, 15.68438714],\n",
       "       [18.49324201, 19.13112647, 19.74841766]])"
      ]
     },
     "execution_count": 11,
     "metadata": {},
     "output_type": "execute_result"
    }
   ],
   "source": [
    "np.sqrt(final_arr)"
   ]
  },
  {
   "cell_type": "code",
   "execution_count": 12,
   "id": "5181ebb0-5078-46d1-991e-5e2f65a862be",
   "metadata": {},
   "outputs": [
    {
     "data": {
      "text/plain": [
       "231.0"
      ]
     },
     "execution_count": 12,
     "metadata": {},
     "output_type": "execute_result"
    }
   ],
   "source": [
    "np.median(final_arr)"
   ]
  },
  {
   "cell_type": "code",
   "execution_count": 14,
   "id": "fa120dbc-bfc6-406e-9a4a-034d0579a3f4",
   "metadata": {},
   "outputs": [
    {
     "data": {
      "text/plain": [
       "231.0"
      ]
     },
     "execution_count": 14,
     "metadata": {},
     "output_type": "execute_result"
    }
   ],
   "source": [
    "np.median(final_arr)"
   ]
  },
  {
   "cell_type": "code",
   "execution_count": 15,
   "id": "82f7bd6e-ee41-4f44-b3e2-d15e5ad20ee8",
   "metadata": {},
   "outputs": [
    {
     "data": {
      "text/plain": [
       "array([[  8100,   9216,  10404],\n",
       "       [ 46656,  53361,  60516],\n",
       "       [116964, 133956, 152100]])"
      ]
     },
     "execution_count": 15,
     "metadata": {},
     "output_type": "execute_result"
    }
   ],
   "source": [
    "np.square(final_arr)"
   ]
  },
  {
   "cell_type": "code",
   "execution_count": 16,
   "id": "06122ca0-b4a5-41d9-9b9d-258fa4c147cd",
   "metadata": {},
   "outputs": [
    {
     "data": {
      "text/plain": [
       "array([[1.22040329e+039, 4.92345829e+041, 1.98626484e+044],\n",
       "       [6.42108015e+093, 2.09906226e+100, 6.86187098e+106],\n",
       "       [3.37841355e+148, 8.94912093e+158, 2.37054357e+169]])"
      ]
     },
     "execution_count": 16,
     "metadata": {},
     "output_type": "execute_result"
    }
   ],
   "source": [
    "np.exp(final_arr)"
   ]
  },
  {
   "cell_type": "code",
   "execution_count": 17,
   "id": "6ccd2d85-aed5-411f-8219-4df0d23b971a",
   "metadata": {},
   "outputs": [
    {
     "data": {
      "text/plain": [
       "array([[4.49980967, 4.56434819, 4.62497281],\n",
       "       [5.37527841, 5.44241771, 5.50533154],\n",
       "       [5.83481074, 5.90263333, 5.96614674]])"
      ]
     },
     "execution_count": 17,
     "metadata": {},
     "output_type": "execute_result"
    }
   ],
   "source": [
    "np.log(final_arr)"
   ]
  },
  {
   "cell_type": "code",
   "execution_count": 18,
   "id": "d00708f0-4085-4847-8279-516f0240995d",
   "metadata": {},
   "outputs": [
    {
     "data": {
      "text/plain": [
       "array([[1.95424251, 1.98227123, 2.00860017],\n",
       "       [2.33445375, 2.36361198, 2.39093511],\n",
       "       [2.53402611, 2.56348109, 2.59106461]])"
      ]
     },
     "execution_count": 18,
     "metadata": {},
     "output_type": "execute_result"
    }
   ],
   "source": [
    "np.log10(final_arr)"
   ]
  },
  {
   "cell_type": "markdown",
   "id": "9a9f95a0-8ed9-43af-a1cb-9f054d9de22f",
   "metadata": {},
   "source": [
    "# Slicing and indexing "
   ]
  },
  {
   "cell_type": "code",
   "execution_count": 24,
   "id": "a23ffde1-3f23-4319-a745-3e9b5448d22a",
   "metadata": {},
   "outputs": [
    {
     "data": {
      "text/plain": [
       "array([[[ 1,  2,  3,  4,  5],\n",
       "        [ 6,  7,  8,  9, 10],\n",
       "        [11, 12, 13, 14, 15]],\n",
       "\n",
       "       [[16, 17, 18, 19, 20],\n",
       "        [21, 22, 23, 24, 25],\n",
       "        [26, 27, 28, 29, 30]]])"
      ]
     },
     "execution_count": 24,
     "metadata": {},
     "output_type": "execute_result"
    }
   ],
   "source": [
    "ar = np.arange(1,31).reshape(2,3,5)\n",
    "ar"
   ]
  },
  {
   "cell_type": "code",
   "execution_count": 26,
   "id": "55a0dea4-f835-4c88-9208-6187a93f4822",
   "metadata": {},
   "outputs": [
    {
     "data": {
      "text/plain": [
       "2"
      ]
     },
     "execution_count": 26,
     "metadata": {},
     "output_type": "execute_result"
    }
   ],
   "source": [
    "ar[0][0][1]"
   ]
  },
  {
   "cell_type": "code",
   "execution_count": 36,
   "id": "842d5fdd-6931-4d6a-9b9d-ca96985e167d",
   "metadata": {},
   "outputs": [
    {
     "name": "stdout",
     "output_type": "stream",
     "text": [
      "[[[16 17 18 19 20]\n",
      "  [21 22 23 24 25]\n",
      "  [26 27 28 29 30]]]\n"
     ]
    }
   ],
   "source": [
    "print(ar[1:])"
   ]
  },
  {
   "cell_type": "code",
   "execution_count": 47,
   "id": "9a80ae75-58ff-4cf3-b8ce-ccccdac4453d",
   "metadata": {},
   "outputs": [
    {
     "data": {
      "text/plain": [
       "array([[[1, 2]]])"
      ]
     },
     "execution_count": 47,
     "metadata": {},
     "output_type": "execute_result"
    }
   ],
   "source": [
    "ar[0:1,:1,0:2]"
   ]
  },
  {
   "cell_type": "code",
   "execution_count": 51,
   "id": "69a2ec73-f993-43b8-a035-25c6f8f6e9e4",
   "metadata": {},
   "outputs": [
    {
     "data": {
      "text/plain": [
       "array([[[ 1,  2,  3,  4,  5],\n",
       "        [ 6,  7,  8,  9, 10],\n",
       "        [11, 12, 13, 14, 15]]])"
      ]
     },
     "execution_count": 51,
     "metadata": {},
     "output_type": "execute_result"
    }
   ],
   "source": [
    "ar[0:1]"
   ]
  },
  {
   "cell_type": "code",
   "execution_count": 52,
   "id": "40d849d9-9627-4f17-8b96-32d8b33c7171",
   "metadata": {},
   "outputs": [
    {
     "data": {
      "text/plain": [
       "array([[[1, 2, 3, 4]]])"
      ]
     },
     "execution_count": 52,
     "metadata": {},
     "output_type": "execute_result"
    }
   ],
   "source": [
    "ar[0:1, 0:1,0:4]"
   ]
  },
  {
   "cell_type": "code",
   "execution_count": 54,
   "id": "3e09ce04-49ec-4432-898e-e85545385b2d",
   "metadata": {},
   "outputs": [
    {
     "data": {
      "text/plain": [
       "4"
      ]
     },
     "execution_count": 54,
     "metadata": {},
     "output_type": "execute_result"
    }
   ],
   "source": [
    "ar.itemsize"
   ]
  },
  {
   "cell_type": "code",
   "execution_count": null,
   "id": "9ac7ad46-a5c9-42dc-a030-03517d76b595",
   "metadata": {},
   "outputs": [],
   "source": []
  }
 ],
 "metadata": {
  "kernelspec": {
   "display_name": "Python 3 (ipykernel)",
   "language": "python",
   "name": "python3"
  },
  "language_info": {
   "codemirror_mode": {
    "name": "ipython",
    "version": 3
   },
   "file_extension": ".py",
   "mimetype": "text/x-python",
   "name": "python",
   "nbconvert_exporter": "python",
   "pygments_lexer": "ipython3",
   "version": "3.9.13"
  },
  "widgets": {
   "application/vnd.jupyter.widget-state+json": {
    "state": {},
    "version_major": 2,
    "version_minor": 0
   }
  }
 },
 "nbformat": 4,
 "nbformat_minor": 5
}
