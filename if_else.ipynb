{
 "cells": [
  {
   "cell_type": "markdown",
   "id": "fe6550ce-5b82-4225-91f3-792789a09bbb",
   "metadata": {},
   "source": [
    "## A system that tells about the voting eligibility"
   ]
  },
  {
   "cell_type": "code",
   "execution_count": 1,
   "id": "f6da9b1c-c787-4307-9903-b5cd545740f5",
   "metadata": {},
   "outputs": [
    {
     "name": "stdin",
     "output_type": "stream",
     "text": [
      "Enter your choice\n",
      "1. To enter your age.\n",
      "2. To check your entered age.\n",
      "3. To check eligibility.\n",
      "4. To know the age limits to vote.\n",
      "5. To EXIT\n",
      " 1\n",
      "Enter your age to check whether you are eligible to vote or not:  21\n",
      "Enter your choice\n",
      "1. To enter your age.\n",
      "2. To check your entered age.\n",
      "3. To check eligibility.\n",
      "4. To know the age limits to vote.\n",
      "5. To EXIT\n",
      " 3\n"
     ]
    },
    {
     "name": "stdout",
     "output_type": "stream",
     "text": [
      "You are eligible to vote\n"
     ]
    },
    {
     "name": "stdin",
     "output_type": "stream",
     "text": [
      "Enter your choice\n",
      "1. To enter your age.\n",
      "2. To check your entered age.\n",
      "3. To check eligibility.\n",
      "4. To know the age limits to vote.\n",
      "5. To EXIT\n",
      " 5\n"
     ]
    }
   ],
   "source": [
    "def vote(a):\n",
    "    if a <= 17 and a >= 1:\n",
    "        print(\"You are not eligible to vote\")\n",
    "    elif a >= 18 and a <= 150:\n",
    "        print(\"You are eligible to vote\")\n",
    "    else:\n",
    "        print(\"Please check your age again\")\n",
    "\n",
    "data = []\n",
    "\n",
    "while True:\n",
    "    b = int(input('''Enter your choice\n",
    "1. To enter your age.\n",
    "2. To check your entered age.\n",
    "3. To check eligibility.\n",
    "4. To know the age limits to vote.\n",
    "5. To EXIT\n",
    "'''))\n",
    "\n",
    "    if b == 1:\n",
    "        a = int(input(\"Enter your age to check whether you are eligible to vote or not: \"))\n",
    "        data.append(a)\n",
    "    elif b == 2:\n",
    "        if data:\n",
    "            print(f\"The entered age is: {data[-1]}\")\n",
    "        else:\n",
    "            print(\"No age entered yet.\")\n",
    "    elif b == 3:\n",
    "        if data:\n",
    "            vote(data[-1])\n",
    "        else:\n",
    "            print(\"No age entered yet.\")\n",
    "    elif b == 4:\n",
    "        print(\"The age limit to vote in any political voting in India starts from the age of 18 and above. You can not vote if you are younger than 18 years. You should have a valid identity proof (AADHAR CARD) that proves your age, along with another identity issued by the ELECTION COMMISSION of INDIA and the ID is known as VOTER ID, which is also required to vote.\")\n",
    "    elif b == 5:\n",
    "        break\n",
    "    else:\n",
    "        print(\"Please select a valid choice\")\n"
   ]
  },
  {
   "cell_type": "code",
   "execution_count": 3,
   "id": "8cccda2d-dc53-4bef-aab9-78177f55f2f2",
   "metadata": {},
   "outputs": [
    {
     "name": "stdin",
     "output_type": "stream",
     "text": [
      "Enter Your number: 2\n"
     ]
    },
    {
     "name": "stdout",
     "output_type": "stream",
     "text": [
      " 2 x 1 = 2\n",
      " 2 x 2 = 4\n",
      " 2 x 3 = 6\n",
      " 2 x 4 = 8\n",
      " 2 x 5 = 10\n",
      " 2 x 6 = 12\n",
      " 2 x 7 = 14\n",
      " 2 x 8 = 16\n",
      " 2 x 9 = 18\n",
      " 2 x 10 = 20\n"
     ]
    }
   ],
   "source": [
    "num = int(input(\"Enter Your number:\"))\n",
    "for i in range(1,11):\n",
    "    print(f\" {num} x {i} = {num * i}\")\n"
   ]
  },
  {
   "cell_type": "code",
   "execution_count": 4,
   "id": "343e757a-0617-4649-b315-3e1d22a1f441",
   "metadata": {},
   "outputs": [
    {
     "name": "stdout",
     "output_type": "stream",
     "text": [
      "Ram \n",
      "Shyam\n",
      "Naresh\n",
      "Shiv\n",
      "Hanuman\n"
     ]
    }
   ],
   "source": [
    "a = [\"Ram \", \"Shyam\" , \"Naresh\" , \"Shiv\" , \"Hanuman\"]\n",
    "for i in a:\n",
    "    print(i)"
   ]
  },
  {
   "cell_type": "code",
   "execution_count": 20,
   "id": "b759ae67-05f5-4453-b235-d4515bedb6d9",
   "metadata": {},
   "outputs": [
    {
     "name": "stdout",
     "output_type": "stream",
     "text": [
      "Jay Shree Ram\n",
      "Jay Shree Ram\n",
      "Jay Shree Ram\n",
      "Jay Shree Ram\n",
      "Jay Shree Ram\n"
     ]
    }
   ],
   "source": [
    "a = 0\n",
    "while a < 5:\n",
    "    print(\"Jay Shree Ram\")\n",
    "    a+=1"
   ]
  },
  {
   "cell_type": "code",
   "execution_count": 19,
   "id": "788ee397-648b-4e3a-8976-34db01477bd6",
   "metadata": {},
   "outputs": [
    {
     "name": "stdout",
     "output_type": "stream",
     "text": [
      "Jay shree Ram\n"
     ]
    }
   ],
   "source": [
    "i = 10\n",
    "while True:\n",
    "    print(\"Jay shree Ram\")\n",
    "    i += 1\n",
    "    if i >= 5:\n",
    "        break\n"
   ]
  },
  {
   "cell_type": "code",
   "execution_count": null,
   "id": "ce4fa01e-e3c3-45d6-81f0-3a77154bac70",
   "metadata": {},
   "outputs": [],
   "source": []
  }
 ],
 "metadata": {
  "kernelspec": {
   "display_name": "Python 3 (ipykernel)",
   "language": "python",
   "name": "python3"
  },
  "language_info": {
   "codemirror_mode": {
    "name": "ipython",
    "version": 3
   },
   "file_extension": ".py",
   "mimetype": "text/x-python",
   "name": "python",
   "nbconvert_exporter": "python",
   "pygments_lexer": "ipython3",
   "version": "3.9.13"
  },
  "widgets": {
   "application/vnd.jupyter.widget-state+json": {
    "state": {},
    "version_major": 2,
    "version_minor": 0
   }
  }
 },
 "nbformat": 4,
 "nbformat_minor": 5
}
