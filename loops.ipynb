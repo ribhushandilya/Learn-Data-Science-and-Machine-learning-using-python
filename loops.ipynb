{
 "cells": [
  {
   "cell_type": "code",
   "execution_count": 1,
   "id": "17a60cf6-cf94-4fe0-a0a9-166c7e018a38",
   "metadata": {},
   "outputs": [
    {
     "name": "stdout",
     "output_type": "stream",
     "text": [
      "Jay Shree Ram\n"
     ]
    }
   ],
   "source": [
    "print(\"Jay Shree Ram\")"
   ]
  },
  {
   "cell_type": "markdown",
   "id": "c2c56c86-48e4-4754-b7d9-0ba32d0d3587",
   "metadata": {},
   "source": [
    "## LOOPS\n",
    "\n",
    "1. For Loop (Used to iterate the elements of list, tuple, dictionary, set and string. In this we have proper knowledge about the end of loop or the number of iterations.)\n",
    "2. While Loop (It is used to iterate till the condtion is true and there is no specificity about the number of iterations."
   ]
  },
  {
   "cell_type": "markdown",
   "id": "093e17d2-b968-42e8-9596-9f492efddbae",
   "metadata": {},
   "source": [
    "## For Loop"
   ]
  },
  {
   "cell_type": "code",
   "execution_count": 2,
   "id": "9cb3605f-c445-45b6-ba75-1f1d8fcd0503",
   "metadata": {},
   "outputs": [
    {
     "name": "stdout",
     "output_type": "stream",
     "text": [
      "apple\n",
      "banana\n",
      "cherry\n"
     ]
    }
   ],
   "source": [
    "fruits = [\"apple\", \"banana\", \"cherry\"]\n",
    "for fruit in fruits:\n",
    "    print(fruit)\n"
   ]
  },
  {
   "cell_type": "code",
   "execution_count": 3,
   "id": "6647d10a-caff-485e-ada6-fa85f788b8fc",
   "metadata": {},
   "outputs": [
    {
     "name": "stdout",
     "output_type": "stream",
     "text": [
      "2\n",
      "4\n",
      "6\n",
      "8\n",
      "10\n"
     ]
    }
   ],
   "source": [
    "numbers = [1, 2, 3, 4, 5]\n",
    "\n",
    "for num in numbers:\n",
    "    print(num * 2)\n"
   ]
  },
  {
   "cell_type": "code",
   "execution_count": 4,
   "id": "3b4f385d-b3f5-498c-b1e7-9874a9952029",
   "metadata": {},
   "outputs": [
    {
     "name": "stdout",
     "output_type": "stream",
     "text": [
      "Amit has passed with 85 marks.\n",
      "Rahul has failed with 40 marks.\n",
      "Priya has passed with 65 marks.\n",
      "Sita has failed with 30 marks.\n"
     ]
    }
   ],
   "source": [
    "students = [\n",
    "    {\"name\": \"Amit\", \"marks\": 85},\n",
    "    {\"name\": \"Rahul\", \"marks\": 40},\n",
    "    {\"name\": \"Priya\", \"marks\": 65},\n",
    "    {\"name\": \"Sita\", \"marks\": 30}\n",
    "]\n",
    "\n",
    "passing_marks = 50\n",
    "\n",
    "for student in students:\n",
    "    name = student[\"name\"]\n",
    "    marks = student[\"marks\"]\n",
    "    \n",
    "    if marks >= passing_marks:\n",
    "        print(f\"{name} has passed with {marks} marks.\")\n",
    "    else:\n",
    "        print(f\"{name} has failed with {marks} marks.\")\n"
   ]
  },
  {
   "cell_type": "code",
   "execution_count": 5,
   "id": "e08362b0-3529-4a29-bca5-f370d45cc677",
   "metadata": {},
   "outputs": [
    {
     "name": "stdout",
     "output_type": "stream",
     "text": [
      "Amit has passed with an average of 78.33 marks.\n",
      "Rahul has failed with an average of 35.00 marks.\n",
      "Priya has passed with an average of 67.67 marks.\n",
      "Sita has failed with an average of 30.00 marks.\n"
     ]
    }
   ],
   "source": [
    "students = [\n",
    "    {\"name\": \"Amit\", \"marks\": {\"math\": 85, \"science\": 78, \"english\": 72}},\n",
    "    {\"name\": \"Rahul\", \"marks\": {\"math\": 40, \"science\": 35, \"english\": 30}},\n",
    "    {\"name\": \"Priya\", \"marks\": {\"math\": 65, \"science\": 70, \"english\": 68}},\n",
    "    {\"name\": \"Sita\", \"marks\": {\"math\": 30, \"science\": 32, \"english\": 28}}\n",
    "]\n",
    "\n",
    "passing_marks = 50\n",
    "\n",
    "def calculate_average(marks):\n",
    "    total_marks = sum(marks.values())\n",
    "    num_of_sub = len(marks)\n",
    "    return total_marks / num_of_sub\n",
    "\n",
    "for student in students:\n",
    "    name = student[\"name\"]\n",
    "    marks = student[\"marks\"]\n",
    "    average_marks = calculate_average(marks)\n",
    "    \n",
    "    if average_marks >= passing_marks:\n",
    "        print(f\"{name} has passed with an average of {average_marks:.2f} marks.\")\n",
    "    else:\n",
    "        print(f\"{name} has failed with an average of {average_marks:.2f} marks.\")\n"
   ]
  },
  {
   "cell_type": "code",
   "execution_count": 6,
   "id": "94b733ba-8f25-4694-b709-fa4b69c4f066",
   "metadata": {},
   "outputs": [
    {
     "name": "stdout",
     "output_type": "stream",
     "text": [
      "Number: 1\n",
      "Square: 1\n",
      "\n",
      "Number: 2\n",
      "Square: 2\n",
      "Square: 4\n",
      "\n",
      "Number: 3\n",
      "Square: 3\n",
      "Square: 6\n",
      "Square: 9\n",
      "\n",
      "Number: 4\n",
      "Square: 4\n",
      "Square: 8\n",
      "Square: 12\n",
      "Square: 16\n",
      "\n",
      "Number: 5\n",
      "Square: 5\n",
      "Square: 10\n",
      "Square: 15\n",
      "Square: 20\n",
      "Square: 25\n",
      "\n"
     ]
    }
   ],
   "source": [
    "# Using a for loop to iterate over numbers 1 to 5 and print their squares\n",
    "for i in range(1, 6):\n",
    "    print(f\"Number: {i}\")\n",
    "    \n",
    "    j = 1\n",
    "    while j <= i:\n",
    "        print(f\"Square: {i * j}\")\n",
    "        j += 1\n",
    "    print() \n"
   ]
  },
  {
   "cell_type": "markdown",
   "id": "648a528d-35fb-4ff4-b480-0d1fabb937d4",
   "metadata": {},
   "source": [
    "## While Loop"
   ]
  },
  {
   "cell_type": "code",
   "execution_count": 7,
   "id": "982cabc8-375c-4fc0-9e1f-722099a0c2e6",
   "metadata": {},
   "outputs": [
    {
     "name": "stdout",
     "output_type": "stream",
     "text": [
      "2\n",
      "4\n",
      "6\n",
      "8\n",
      "10\n"
     ]
    }
   ],
   "source": [
    "# Check if the number is even\n",
    "counter = 1\n",
    "while counter <= 10:\n",
    "\n",
    "    if counter % 2 == 0:\n",
    "         print(counter)  \n",
    "    counter += 1 \n"
   ]
  },
  {
   "cell_type": "markdown",
   "id": "e02c0537-4bf9-4e39-b53c-a5bc1b06ab18",
   "metadata": {},
   "source": [
    "## Functions"
   ]
  },
  {
   "cell_type": "code",
   "execution_count": 8,
   "id": "182226bf-0d88-4672-a3b5-1556ac703380",
   "metadata": {},
   "outputs": [
    {
     "name": "stdout",
     "output_type": "stream",
     "text": [
      "8\n"
     ]
    }
   ],
   "source": [
    "# Addition of two numbers\n",
    "def add_numbers(a, b):\n",
    "    return a + b\n",
    "    \n",
    "result = add_numbers(5, 3)\n",
    "print(result) \n"
   ]
  },
  {
   "cell_type": "code",
   "execution_count": 9,
   "id": "b7c78b56-989c-4414-ad0f-180c02a8a4be",
   "metadata": {},
   "outputs": [
    {
     "name": "stdout",
     "output_type": "stream",
     "text": [
      "50\n"
     ]
    }
   ],
   "source": [
    "# Calculate area of rectangle\n",
    "def calculate_area(length, width):\n",
    "    area = length * width\n",
    "    return area\n",
    "\n",
    "rectangle_area = calculate_area(10, 5)\n",
    "print(rectangle_area)\n"
   ]
  },
  {
   "cell_type": "code",
   "execution_count": 10,
   "id": "2cab41df-0987-4e00-bdd5-7d1f583bf014",
   "metadata": {},
   "outputs": [
    {
     "name": "stdout",
     "output_type": "stream",
     "text": [
      "Hello, Raju!\n",
      "Hello, Kaju!\n"
     ]
    }
   ],
   "source": [
    "def greet(name=\"Raju\"):\n",
    "    print(f\"Hello, {name}!\")\n",
    "\n",
    "greet()           \n",
    "greet(\"Kaju\") \n"
   ]
  },
  {
   "cell_type": "code",
   "execution_count": 1,
   "id": "f949ae79-e14b-4428-9fa3-733c3f7c039f",
   "metadata": {},
   "outputs": [
    {
     "name": "stdout",
     "output_type": "stream",
     "text": [
      "15\n"
     ]
    }
   ],
   "source": [
    "# Sum of more than 2 numbers\n",
    "def sum_numbers(*numbers):\n",
    "    total = 0\n",
    "    for i in numbers:\n",
    "        total += i\n",
    "    return total\n",
    "\n",
    "print(sum_numbers(1, 2, 3, 4, 5))\n"
   ]
  },
  {
   "cell_type": "code",
   "execution_count": null,
   "id": "e4eba2d4-880b-4192-a58d-4db860f4f0c8",
   "metadata": {},
   "outputs": [],
   "source": []
  }
 ],
 "metadata": {
  "kernelspec": {
   "display_name": "Python 3 (ipykernel)",
   "language": "python",
   "name": "python3"
  },
  "language_info": {
   "codemirror_mode": {
    "name": "ipython",
    "version": 3
   },
   "file_extension": ".py",
   "mimetype": "text/x-python",
   "name": "python",
   "nbconvert_exporter": "python",
   "pygments_lexer": "ipython3",
   "version": "3.9.13"
  },
  "widgets": {
   "application/vnd.jupyter.widget-state+json": {
    "state": {},
    "version_major": 2,
    "version_minor": 0
   }
  }
 },
 "nbformat": 4,
 "nbformat_minor": 5
}
