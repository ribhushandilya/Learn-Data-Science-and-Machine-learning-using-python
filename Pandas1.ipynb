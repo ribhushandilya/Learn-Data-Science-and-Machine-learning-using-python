{
 "cells": [
  {
   "cell_type": "markdown",
   "id": "385f28eb-d5d5-4c2c-96b6-b62446a8ffe6",
   "metadata": {},
   "source": [
    "## DataFrame"
   ]
  },
  {
   "cell_type": "code",
   "execution_count": 1,
   "id": "d9e60a7c-9e36-4fb8-ac83-82a073ebe8be",
   "metadata": {},
   "outputs": [],
   "source": [
    "import pandas as pd"
   ]
  },
  {
   "cell_type": "code",
   "execution_count": 2,
   "id": "7c245d19-93f2-4c55-b83e-efb7ce1b424e",
   "metadata": {},
   "outputs": [
    {
     "data": {
      "text/plain": [
       "[2, 3, 4, 3, 2, 4, 44, 3]"
      ]
     },
     "execution_count": 2,
     "metadata": {},
     "output_type": "execute_result"
    }
   ],
   "source": [
    "list1 = [2,3,4,3,2,4,44,3]\n",
    "list1"
   ]
  },
  {
   "cell_type": "code",
   "execution_count": 3,
   "id": "8056ae4b-58c0-463a-a488-2692fb3df242",
   "metadata": {},
   "outputs": [
    {
     "data": {
      "text/html": [
       "<div>\n",
       "<style scoped>\n",
       "    .dataframe tbody tr th:only-of-type {\n",
       "        vertical-align: middle;\n",
       "    }\n",
       "\n",
       "    .dataframe tbody tr th {\n",
       "        vertical-align: top;\n",
       "    }\n",
       "\n",
       "    .dataframe thead th {\n",
       "        text-align: right;\n",
       "    }\n",
       "</style>\n",
       "<table border=\"1\" class=\"dataframe\">\n",
       "  <thead>\n",
       "    <tr style=\"text-align: right;\">\n",
       "      <th></th>\n",
       "      <th>0</th>\n",
       "    </tr>\n",
       "  </thead>\n",
       "  <tbody>\n",
       "    <tr>\n",
       "      <th>0</th>\n",
       "      <td>2</td>\n",
       "    </tr>\n",
       "    <tr>\n",
       "      <th>1</th>\n",
       "      <td>3</td>\n",
       "    </tr>\n",
       "    <tr>\n",
       "      <th>2</th>\n",
       "      <td>4</td>\n",
       "    </tr>\n",
       "    <tr>\n",
       "      <th>3</th>\n",
       "      <td>3</td>\n",
       "    </tr>\n",
       "    <tr>\n",
       "      <th>4</th>\n",
       "      <td>2</td>\n",
       "    </tr>\n",
       "    <tr>\n",
       "      <th>5</th>\n",
       "      <td>4</td>\n",
       "    </tr>\n",
       "    <tr>\n",
       "      <th>6</th>\n",
       "      <td>44</td>\n",
       "    </tr>\n",
       "    <tr>\n",
       "      <th>7</th>\n",
       "      <td>3</td>\n",
       "    </tr>\n",
       "  </tbody>\n",
       "</table>\n",
       "</div>"
      ],
      "text/plain": [
       "    0\n",
       "0   2\n",
       "1   3\n",
       "2   4\n",
       "3   3\n",
       "4   2\n",
       "5   4\n",
       "6  44\n",
       "7   3"
      ]
     },
     "execution_count": 3,
     "metadata": {},
     "output_type": "execute_result"
    }
   ],
   "source": [
    "pd.DataFrame(list1)"
   ]
  },
  {
   "cell_type": "code",
   "execution_count": 8,
   "id": "e5399b6a-e662-44ab-b31c-42278de6c4f7",
   "metadata": {},
   "outputs": [
    {
     "data": {
      "text/html": [
       "<div>\n",
       "<style scoped>\n",
       "    .dataframe tbody tr th:only-of-type {\n",
       "        vertical-align: middle;\n",
       "    }\n",
       "\n",
       "    .dataframe tbody tr th {\n",
       "        vertical-align: top;\n",
       "    }\n",
       "\n",
       "    .dataframe thead th {\n",
       "        text-align: right;\n",
       "    }\n",
       "</style>\n",
       "<table border=\"1\" class=\"dataframe\">\n",
       "  <thead>\n",
       "    <tr style=\"text-align: right;\">\n",
       "      <th></th>\n",
       "      <th>0</th>\n",
       "      <th>1</th>\n",
       "      <th>2</th>\n",
       "    </tr>\n",
       "  </thead>\n",
       "  <tbody>\n",
       "    <tr>\n",
       "      <th>0</th>\n",
       "      <td>Jitu</td>\n",
       "      <td>Ribhu</td>\n",
       "      <td>Piyush</td>\n",
       "    </tr>\n",
       "    <tr>\n",
       "      <th>1</th>\n",
       "      <td>21</td>\n",
       "      <td>25</td>\n",
       "      <td>19</td>\n",
       "    </tr>\n",
       "    <tr>\n",
       "      <th>2</th>\n",
       "      <td>Jaipur</td>\n",
       "      <td>Patna</td>\n",
       "      <td>Jaipur</td>\n",
       "    </tr>\n",
       "    <tr>\n",
       "      <th>3</th>\n",
       "      <td>2003</td>\n",
       "      <td>1999</td>\n",
       "      <td>2004</td>\n",
       "    </tr>\n",
       "  </tbody>\n",
       "</table>\n",
       "</div>"
      ],
      "text/plain": [
       "        0      1       2\n",
       "0    Jitu  Ribhu  Piyush\n",
       "1      21     25      19\n",
       "2  Jaipur  Patna  Jaipur\n",
       "3    2003   1999    2004"
      ]
     },
     "execution_count": 8,
     "metadata": {},
     "output_type": "execute_result"
    }
   ],
   "source": [
    "#Jitu = [{\"Name\":\"Jitu\",\"age\":21,\"city\":\"jaipur\",\"DOB\":2003}]\n",
    "#Ribhu =[{\"Name\":\"Ribhu\",\"age\":25,\"city\":\"Patna\",\"DOB\":1999}]\n",
    "Name = [\"Jitu\",\"Ribhu\",\"Piyush\"]\n",
    "Age = [21,25,19]\n",
    "City = [\"Jaipur\",\"Patna\",\"Jaipur\"]\n",
    "DOB = [2003,1999,2004]\n",
    "df = pd.DataFrame([Name,Age,City,DOB])\n",
    "df"
   ]
  },
  {
   "cell_type": "code",
   "execution_count": 13,
   "id": "adf92fb6-8d66-499f-943a-0f28021e9b10",
   "metadata": {},
   "outputs": [
    {
     "data": {
      "text/html": [
       "<div>\n",
       "<style scoped>\n",
       "    .dataframe tbody tr th:only-of-type {\n",
       "        vertical-align: middle;\n",
       "    }\n",
       "\n",
       "    .dataframe tbody tr th {\n",
       "        vertical-align: top;\n",
       "    }\n",
       "\n",
       "    .dataframe thead th {\n",
       "        text-align: right;\n",
       "    }\n",
       "</style>\n",
       "<table border=\"1\" class=\"dataframe\">\n",
       "  <thead>\n",
       "    <tr style=\"text-align: right;\">\n",
       "      <th></th>\n",
       "      <th>Name</th>\n",
       "      <th>Age</th>\n",
       "      <th>City</th>\n",
       "      <th>DOB</th>\n",
       "    </tr>\n",
       "  </thead>\n",
       "  <tbody>\n",
       "    <tr>\n",
       "      <th>1</th>\n",
       "      <td>Jitu</td>\n",
       "      <td>21</td>\n",
       "      <td>Jaipur</td>\n",
       "      <td>2003</td>\n",
       "    </tr>\n",
       "    <tr>\n",
       "      <th>2</th>\n",
       "      <td>Ribhu</td>\n",
       "      <td>25</td>\n",
       "      <td>Patna</td>\n",
       "      <td>1999</td>\n",
       "    </tr>\n",
       "    <tr>\n",
       "      <th>3</th>\n",
       "      <td>Piyush</td>\n",
       "      <td>19</td>\n",
       "      <td>Jaipur</td>\n",
       "      <td>2004</td>\n",
       "    </tr>\n",
       "  </tbody>\n",
       "</table>\n",
       "</div>"
      ],
      "text/plain": [
       "     Name  Age    City   DOB\n",
       "1    Jitu   21  Jaipur  2003\n",
       "2   Ribhu   25   Patna  1999\n",
       "3  Piyush   19  Jaipur  2004"
      ]
     },
     "execution_count": 13,
     "metadata": {},
     "output_type": "execute_result"
    }
   ],
   "source": [
    "frame = {\"Name\" : [\"Jitu\",\"Ribhu\",\"Piyush\"],\n",
    "\"Age\":[21,25,19],\n",
    "\"City\":[\"Jaipur\",\"Patna\",\"Jaipur\"],\n",
    "\"DOB\":[2003,1999,2004]}\n",
    "\n",
    "df = pd.DataFrame(frame,index=[1,2,3])\n",
    "df"
   ]
  },
  {
   "cell_type": "code",
   "execution_count": 24,
   "id": "e2c89f8b-675a-431d-beaf-702f54d1eafb",
   "metadata": {},
   "outputs": [
    {
     "data": {
      "text/html": [
       "<div>\n",
       "<style scoped>\n",
       "    .dataframe tbody tr th:only-of-type {\n",
       "        vertical-align: middle;\n",
       "    }\n",
       "\n",
       "    .dataframe tbody tr th {\n",
       "        vertical-align: top;\n",
       "    }\n",
       "\n",
       "    .dataframe thead th {\n",
       "        text-align: right;\n",
       "    }\n",
       "</style>\n",
       "<table border=\"1\" class=\"dataframe\">\n",
       "  <thead>\n",
       "    <tr style=\"text-align: right;\">\n",
       "      <th></th>\n",
       "      <th>Name</th>\n",
       "      <th>Age</th>\n",
       "      <th>City</th>\n",
       "      <th>DOB</th>\n",
       "      <th>College</th>\n",
       "      <th>Year Of passing</th>\n",
       "    </tr>\n",
       "  </thead>\n",
       "  <tbody>\n",
       "    <tr>\n",
       "      <th>1</th>\n",
       "      <td>Jitu</td>\n",
       "      <td>21</td>\n",
       "      <td>Jaipur</td>\n",
       "      <td>2003</td>\n",
       "      <td>Sbcet</td>\n",
       "      <td>2025</td>\n",
       "    </tr>\n",
       "    <tr>\n",
       "      <th>2</th>\n",
       "      <td>Ribhu</td>\n",
       "      <td>25</td>\n",
       "      <td>Patna</td>\n",
       "      <td>1999</td>\n",
       "      <td>Sbcet</td>\n",
       "      <td>2025</td>\n",
       "    </tr>\n",
       "    <tr>\n",
       "      <th>3</th>\n",
       "      <td>Piyush</td>\n",
       "      <td>19</td>\n",
       "      <td>Jaipur</td>\n",
       "      <td>2004</td>\n",
       "      <td>Sbcet</td>\n",
       "      <td>2025</td>\n",
       "    </tr>\n",
       "  </tbody>\n",
       "</table>\n",
       "</div>"
      ],
      "text/plain": [
       "     Name  Age    City   DOB College  Year Of passing\n",
       "1    Jitu   21  Jaipur  2003   Sbcet             2025\n",
       "2   Ribhu   25   Patna  1999   Sbcet             2025\n",
       "3  Piyush   19  Jaipur  2004   Sbcet             2025"
      ]
     },
     "execution_count": 24,
     "metadata": {},
     "output_type": "execute_result"
    }
   ],
   "source": [
    "df[\"College\"]=[\"Sbcet\",\"Sbcet\",\"Sbcet\"]\n",
    "df[\"Year Of passing\"] = [2025,2025,2025]\n",
    "df"
   ]
  },
  {
   "cell_type": "code",
   "execution_count": 32,
   "id": "405966f4-c4e4-4dbc-86c0-66379b295d15",
   "metadata": {},
   "outputs": [
    {
     "data": {
      "text/plain": [
       "1     Jitu\n",
       "2     Jitu\n",
       "3     Jitu\n",
       "4     Jitu\n",
       "5     Jitu\n",
       "6     Jitu\n",
       "7     Jitu\n",
       "8     Jitu\n",
       "9     Jitu\n",
       "10    Jitu\n",
       "Name: jitu, dtype: object"
      ]
     },
     "execution_count": 32,
     "metadata": {},
     "output_type": "execute_result"
    }
   ],
   "source": [
    "pd.Series(\"Jitu\", index = [1,2,3,4,5,6,7,8,9,10],dtype = str,name=\"jitu\")\n"
   ]
  },
  {
   "cell_type": "code",
   "execution_count": 34,
   "id": "caef14f4-2e35-4a0a-8cb9-8e18e56aae3f",
   "metadata": {},
   "outputs": [
    {
     "data": {
      "text/plain": [
       "1    a\n",
       "2    b\n",
       "3    c\n",
       "4    d\n",
       "5    e\n",
       "6    f\n",
       "dtype: object"
      ]
     },
     "execution_count": 34,
     "metadata": {},
     "output_type": "execute_result"
    }
   ],
   "source": [
    "pd.Series({1:\"a\",2:\"b\",3:\"c\",4:\"d\",5:\"e\",6:\"f\"})"
   ]
  },
  {
   "cell_type": "code",
   "execution_count": 35,
   "id": "aabcf7e2-1f03-454b-92c1-55950a73fc4b",
   "metadata": {},
   "outputs": [
    {
     "data": {
      "text/html": [
       "<div>\n",
       "<style scoped>\n",
       "    .dataframe tbody tr th:only-of-type {\n",
       "        vertical-align: middle;\n",
       "    }\n",
       "\n",
       "    .dataframe tbody tr th {\n",
       "        vertical-align: top;\n",
       "    }\n",
       "\n",
       "    .dataframe thead th {\n",
       "        text-align: right;\n",
       "    }\n",
       "</style>\n",
       "<table border=\"1\" class=\"dataframe\">\n",
       "  <thead>\n",
       "    <tr style=\"text-align: right;\">\n",
       "      <th></th>\n",
       "      <th>Name</th>\n",
       "      <th>Age</th>\n",
       "      <th>City</th>\n",
       "      <th>DOB</th>\n",
       "      <th>College</th>\n",
       "      <th>Year Of passing</th>\n",
       "    </tr>\n",
       "  </thead>\n",
       "  <tbody>\n",
       "    <tr>\n",
       "      <th>1</th>\n",
       "      <td>Jitu</td>\n",
       "      <td>21</td>\n",
       "      <td>Jaipur</td>\n",
       "      <td>2003</td>\n",
       "      <td>Sbcet</td>\n",
       "      <td>2025</td>\n",
       "    </tr>\n",
       "    <tr>\n",
       "      <th>2</th>\n",
       "      <td>Ribhu</td>\n",
       "      <td>25</td>\n",
       "      <td>Patna</td>\n",
       "      <td>1999</td>\n",
       "      <td>Sbcet</td>\n",
       "      <td>2025</td>\n",
       "    </tr>\n",
       "    <tr>\n",
       "      <th>3</th>\n",
       "      <td>Piyush</td>\n",
       "      <td>19</td>\n",
       "      <td>Jaipur</td>\n",
       "      <td>2004</td>\n",
       "      <td>Sbcet</td>\n",
       "      <td>2025</td>\n",
       "    </tr>\n",
       "  </tbody>\n",
       "</table>\n",
       "</div>"
      ],
      "text/plain": [
       "     Name  Age    City   DOB College  Year Of passing\n",
       "1    Jitu   21  Jaipur  2003   Sbcet             2025\n",
       "2   Ribhu   25   Patna  1999   Sbcet             2025\n",
       "3  Piyush   19  Jaipur  2004   Sbcet             2025"
      ]
     },
     "execution_count": 35,
     "metadata": {},
     "output_type": "execute_result"
    }
   ],
   "source": [
    "df"
   ]
  },
  {
   "cell_type": "code",
   "execution_count": 57,
   "id": "8a68444e-535e-4bbb-ad75-1aed7bb16e85",
   "metadata": {},
   "outputs": [
    {
     "data": {
      "text/html": [
       "<div>\n",
       "<style scoped>\n",
       "    .dataframe tbody tr th:only-of-type {\n",
       "        vertical-align: middle;\n",
       "    }\n",
       "\n",
       "    .dataframe tbody tr th {\n",
       "        vertical-align: top;\n",
       "    }\n",
       "\n",
       "    .dataframe thead th {\n",
       "        text-align: right;\n",
       "    }\n",
       "</style>\n",
       "<table border=\"1\" class=\"dataframe\">\n",
       "  <thead>\n",
       "    <tr style=\"text-align: right;\">\n",
       "      <th></th>\n",
       "      <th>Name</th>\n",
       "      <th>Age</th>\n",
       "      <th>City</th>\n",
       "      <th>DOB</th>\n",
       "      <th>College</th>\n",
       "      <th>Year Of passing</th>\n",
       "    </tr>\n",
       "  </thead>\n",
       "  <tbody>\n",
       "    <tr>\n",
       "      <th>1</th>\n",
       "      <td>Jitu</td>\n",
       "      <td>21</td>\n",
       "      <td>Jaipur</td>\n",
       "      <td>2003</td>\n",
       "      <td>Sbcet</td>\n",
       "      <td>2025</td>\n",
       "    </tr>\n",
       "  </tbody>\n",
       "</table>\n",
       "</div>"
      ],
      "text/plain": [
       "   Name  Age    City   DOB College  Year Of passing\n",
       "1  Jitu   21  Jaipur  2003   Sbcet             2025"
      ]
     },
     "execution_count": 57,
     "metadata": {},
     "output_type": "execute_result"
    }
   ],
   "source": [
    "df[0:1]"
   ]
  },
  {
   "cell_type": "code",
   "execution_count": 58,
   "id": "c85ed36d-79c1-4aba-97cb-247f7f4d5691",
   "metadata": {},
   "outputs": [
    {
     "data": {
      "text/plain": [
       "'Year Of passing'"
      ]
     },
     "execution_count": 58,
     "metadata": {},
     "output_type": "execute_result"
    }
   ],
   "source": [
    "max(df)"
   ]
  },
  {
   "cell_type": "code",
   "execution_count": 59,
   "id": "16fad109-314f-4704-93cf-2342af627384",
   "metadata": {},
   "outputs": [
    {
     "data": {
      "text/plain": [
       "'Age'"
      ]
     },
     "execution_count": 59,
     "metadata": {},
     "output_type": "execute_result"
    }
   ],
   "source": [
    "min(df)"
   ]
  },
  {
   "cell_type": "code",
   "execution_count": 153,
   "id": "95bf041a-263a-442c-b827-727b3e4fd8d2",
   "metadata": {},
   "outputs": [
    {
     "data": {
      "text/html": [
       "<div>\n",
       "<style scoped>\n",
       "    .dataframe tbody tr th:only-of-type {\n",
       "        vertical-align: middle;\n",
       "    }\n",
       "\n",
       "    .dataframe tbody tr th {\n",
       "        vertical-align: top;\n",
       "    }\n",
       "\n",
       "    .dataframe thead th {\n",
       "        text-align: right;\n",
       "    }\n",
       "</style>\n",
       "<table border=\"1\" class=\"dataframe\">\n",
       "  <thead>\n",
       "    <tr style=\"text-align: right;\">\n",
       "      <th></th>\n",
       "      <th>A</th>\n",
       "      <th>B</th>\n",
       "    </tr>\n",
       "  </thead>\n",
       "  <tbody>\n",
       "    <tr>\n",
       "      <th>0</th>\n",
       "      <td>10</td>\n",
       "      <td>2</td>\n",
       "    </tr>\n",
       "    <tr>\n",
       "      <th>1</th>\n",
       "      <td>20</td>\n",
       "      <td>4</td>\n",
       "    </tr>\n",
       "    <tr>\n",
       "      <th>2</th>\n",
       "      <td>30</td>\n",
       "      <td>2</td>\n",
       "    </tr>\n",
       "    <tr>\n",
       "      <th>3</th>\n",
       "      <td>40</td>\n",
       "      <td>54</td>\n",
       "    </tr>\n",
       "    <tr>\n",
       "      <th>4</th>\n",
       "      <td>50</td>\n",
       "      <td>44</td>\n",
       "    </tr>\n",
       "    <tr>\n",
       "      <th>5</th>\n",
       "      <td>60</td>\n",
       "      <td>3</td>\n",
       "    </tr>\n",
       "    <tr>\n",
       "      <th>6</th>\n",
       "      <td>70</td>\n",
       "      <td>5</td>\n",
       "    </tr>\n",
       "    <tr>\n",
       "      <th>7</th>\n",
       "      <td>80</td>\n",
       "      <td>45</td>\n",
       "    </tr>\n",
       "  </tbody>\n",
       "</table>\n",
       "</div>"
      ],
      "text/plain": [
       "    A   B\n",
       "0  10   2\n",
       "1  20   4\n",
       "2  30   2\n",
       "3  40  54\n",
       "4  50  44\n",
       "5  60   3\n",
       "6  70   5\n",
       "7  80  45"
      ]
     },
     "execution_count": 153,
     "metadata": {},
     "output_type": "execute_result"
    }
   ],
   "source": [
    "a1 = {'A':pd.Series([10,20,30,40,50,60,70,80]),\n",
    "       'B':pd.Series([2,4,2,54,44,3,5,45])}\n",
    "a1 = pd.DataFrame(a1)\n",
    "a1"
   ]
  },
  {
   "cell_type": "code",
   "execution_count": 158,
   "id": "fe16303a-9267-495d-b9bc-2a86bf2a6dc7",
   "metadata": {},
   "outputs": [
    {
     "data": {
      "text/html": [
       "<div>\n",
       "<style scoped>\n",
       "    .dataframe tbody tr th:only-of-type {\n",
       "        vertical-align: middle;\n",
       "    }\n",
       "\n",
       "    .dataframe tbody tr th {\n",
       "        vertical-align: top;\n",
       "    }\n",
       "\n",
       "    .dataframe thead th {\n",
       "        text-align: right;\n",
       "    }\n",
       "</style>\n",
       "<table border=\"1\" class=\"dataframe\">\n",
       "  <thead>\n",
       "    <tr style=\"text-align: right;\">\n",
       "      <th></th>\n",
       "      <th>0</th>\n",
       "      <th>1</th>\n",
       "      <th>2</th>\n",
       "      <th>3</th>\n",
       "      <th>4</th>\n",
       "    </tr>\n",
       "  </thead>\n",
       "  <tbody>\n",
       "    <tr>\n",
       "      <th>0</th>\n",
       "      <td>0.371466</td>\n",
       "      <td>0.527327</td>\n",
       "      <td>0.742471</td>\n",
       "      <td>0.046900</td>\n",
       "      <td>0.125187</td>\n",
       "    </tr>\n",
       "    <tr>\n",
       "      <th>1</th>\n",
       "      <td>0.332538</td>\n",
       "      <td>0.311823</td>\n",
       "      <td>0.784669</td>\n",
       "      <td>0.985974</td>\n",
       "      <td>0.914126</td>\n",
       "    </tr>\n",
       "    <tr>\n",
       "      <th>2</th>\n",
       "      <td>0.690856</td>\n",
       "      <td>0.488950</td>\n",
       "      <td>0.436001</td>\n",
       "      <td>0.666639</td>\n",
       "      <td>0.702239</td>\n",
       "    </tr>\n",
       "    <tr>\n",
       "      <th>3</th>\n",
       "      <td>0.778619</td>\n",
       "      <td>0.757983</td>\n",
       "      <td>0.040386</td>\n",
       "      <td>0.095759</td>\n",
       "      <td>0.274187</td>\n",
       "    </tr>\n",
       "    <tr>\n",
       "      <th>4</th>\n",
       "      <td>0.939675</td>\n",
       "      <td>0.909496</td>\n",
       "      <td>0.286354</td>\n",
       "      <td>0.411998</td>\n",
       "      <td>0.673760</td>\n",
       "    </tr>\n",
       "    <tr>\n",
       "      <th>...</th>\n",
       "      <td>...</td>\n",
       "      <td>...</td>\n",
       "      <td>...</td>\n",
       "      <td>...</td>\n",
       "      <td>...</td>\n",
       "    </tr>\n",
       "    <tr>\n",
       "      <th>395</th>\n",
       "      <td>0.986391</td>\n",
       "      <td>0.606421</td>\n",
       "      <td>0.098201</td>\n",
       "      <td>0.587183</td>\n",
       "      <td>0.142799</td>\n",
       "    </tr>\n",
       "    <tr>\n",
       "      <th>396</th>\n",
       "      <td>0.741060</td>\n",
       "      <td>0.397916</td>\n",
       "      <td>0.638186</td>\n",
       "      <td>0.241883</td>\n",
       "      <td>0.823038</td>\n",
       "    </tr>\n",
       "    <tr>\n",
       "      <th>397</th>\n",
       "      <td>0.618040</td>\n",
       "      <td>0.252652</td>\n",
       "      <td>0.930992</td>\n",
       "      <td>0.190790</td>\n",
       "      <td>0.276203</td>\n",
       "    </tr>\n",
       "    <tr>\n",
       "      <th>398</th>\n",
       "      <td>0.444991</td>\n",
       "      <td>0.258483</td>\n",
       "      <td>0.540188</td>\n",
       "      <td>0.390919</td>\n",
       "      <td>0.680361</td>\n",
       "    </tr>\n",
       "    <tr>\n",
       "      <th>399</th>\n",
       "      <td>0.700299</td>\n",
       "      <td>0.465410</td>\n",
       "      <td>0.026513</td>\n",
       "      <td>0.398044</td>\n",
       "      <td>0.923367</td>\n",
       "    </tr>\n",
       "  </tbody>\n",
       "</table>\n",
       "<p>400 rows × 5 columns</p>\n",
       "</div>"
      ],
      "text/plain": [
       "            0         1         2         3         4\n",
       "0    0.371466  0.527327  0.742471  0.046900  0.125187\n",
       "1    0.332538  0.311823  0.784669  0.985974  0.914126\n",
       "2    0.690856  0.488950  0.436001  0.666639  0.702239\n",
       "3    0.778619  0.757983  0.040386  0.095759  0.274187\n",
       "4    0.939675  0.909496  0.286354  0.411998  0.673760\n",
       "..        ...       ...       ...       ...       ...\n",
       "395  0.986391  0.606421  0.098201  0.587183  0.142799\n",
       "396  0.741060  0.397916  0.638186  0.241883  0.823038\n",
       "397  0.618040  0.252652  0.930992  0.190790  0.276203\n",
       "398  0.444991  0.258483  0.540188  0.390919  0.680361\n",
       "399  0.700299  0.465410  0.026513  0.398044  0.923367\n",
       "\n",
       "[400 rows x 5 columns]"
      ]
     },
     "execution_count": 158,
     "metadata": {},
     "output_type": "execute_result"
    }
   ],
   "source": [
    "import pandas as pd\n",
    "import numpy as np\n",
    "df = pd.DataFrame(np.random.rand(400,5),index = np.arange(400))\n",
    "df"
   ]
  },
  {
   "cell_type": "code",
   "execution_count": 159,
   "id": "75b466f1-f562-4b1b-af11-09e0160fc4db",
   "metadata": {},
   "outputs": [
    {
     "data": {
      "text/html": [
       "<div>\n",
       "<style scoped>\n",
       "    .dataframe tbody tr th:only-of-type {\n",
       "        vertical-align: middle;\n",
       "    }\n",
       "\n",
       "    .dataframe tbody tr th {\n",
       "        vertical-align: top;\n",
       "    }\n",
       "\n",
       "    .dataframe thead th {\n",
       "        text-align: right;\n",
       "    }\n",
       "</style>\n",
       "<table border=\"1\" class=\"dataframe\">\n",
       "  <thead>\n",
       "    <tr style=\"text-align: right;\">\n",
       "      <th></th>\n",
       "      <th>0</th>\n",
       "      <th>1</th>\n",
       "      <th>2</th>\n",
       "      <th>3</th>\n",
       "      <th>4</th>\n",
       "    </tr>\n",
       "  </thead>\n",
       "  <tbody>\n",
       "    <tr>\n",
       "      <th>0</th>\n",
       "      <td>0.371466</td>\n",
       "      <td>0.527327</td>\n",
       "      <td>0.742471</td>\n",
       "      <td>0.046900</td>\n",
       "      <td>0.125187</td>\n",
       "    </tr>\n",
       "    <tr>\n",
       "      <th>1</th>\n",
       "      <td>0.332538</td>\n",
       "      <td>0.311823</td>\n",
       "      <td>0.784669</td>\n",
       "      <td>0.985974</td>\n",
       "      <td>0.914126</td>\n",
       "    </tr>\n",
       "    <tr>\n",
       "      <th>2</th>\n",
       "      <td>0.690856</td>\n",
       "      <td>0.488950</td>\n",
       "      <td>0.436001</td>\n",
       "      <td>0.666639</td>\n",
       "      <td>0.702239</td>\n",
       "    </tr>\n",
       "    <tr>\n",
       "      <th>3</th>\n",
       "      <td>0.778619</td>\n",
       "      <td>0.757983</td>\n",
       "      <td>0.040386</td>\n",
       "      <td>0.095759</td>\n",
       "      <td>0.274187</td>\n",
       "    </tr>\n",
       "    <tr>\n",
       "      <th>4</th>\n",
       "      <td>0.939675</td>\n",
       "      <td>0.909496</td>\n",
       "      <td>0.286354</td>\n",
       "      <td>0.411998</td>\n",
       "      <td>0.673760</td>\n",
       "    </tr>\n",
       "  </tbody>\n",
       "</table>\n",
       "</div>"
      ],
      "text/plain": [
       "          0         1         2         3         4\n",
       "0  0.371466  0.527327  0.742471  0.046900  0.125187\n",
       "1  0.332538  0.311823  0.784669  0.985974  0.914126\n",
       "2  0.690856  0.488950  0.436001  0.666639  0.702239\n",
       "3  0.778619  0.757983  0.040386  0.095759  0.274187\n",
       "4  0.939675  0.909496  0.286354  0.411998  0.673760"
      ]
     },
     "execution_count": 159,
     "metadata": {},
     "output_type": "execute_result"
    }
   ],
   "source": [
    "df.head()"
   ]
  },
  {
   "cell_type": "code",
   "execution_count": 160,
   "id": "e39282ce-5140-459b-88e2-e18e0b1cdf82",
   "metadata": {},
   "outputs": [
    {
     "data": {
      "text/html": [
       "<div>\n",
       "<style scoped>\n",
       "    .dataframe tbody tr th:only-of-type {\n",
       "        vertical-align: middle;\n",
       "    }\n",
       "\n",
       "    .dataframe tbody tr th {\n",
       "        vertical-align: top;\n",
       "    }\n",
       "\n",
       "    .dataframe thead th {\n",
       "        text-align: right;\n",
       "    }\n",
       "</style>\n",
       "<table border=\"1\" class=\"dataframe\">\n",
       "  <thead>\n",
       "    <tr style=\"text-align: right;\">\n",
       "      <th></th>\n",
       "      <th>0</th>\n",
       "      <th>1</th>\n",
       "      <th>2</th>\n",
       "      <th>3</th>\n",
       "      <th>4</th>\n",
       "    </tr>\n",
       "  </thead>\n",
       "  <tbody>\n",
       "    <tr>\n",
       "      <th>395</th>\n",
       "      <td>0.986391</td>\n",
       "      <td>0.606421</td>\n",
       "      <td>0.098201</td>\n",
       "      <td>0.587183</td>\n",
       "      <td>0.142799</td>\n",
       "    </tr>\n",
       "    <tr>\n",
       "      <th>396</th>\n",
       "      <td>0.741060</td>\n",
       "      <td>0.397916</td>\n",
       "      <td>0.638186</td>\n",
       "      <td>0.241883</td>\n",
       "      <td>0.823038</td>\n",
       "    </tr>\n",
       "    <tr>\n",
       "      <th>397</th>\n",
       "      <td>0.618040</td>\n",
       "      <td>0.252652</td>\n",
       "      <td>0.930992</td>\n",
       "      <td>0.190790</td>\n",
       "      <td>0.276203</td>\n",
       "    </tr>\n",
       "    <tr>\n",
       "      <th>398</th>\n",
       "      <td>0.444991</td>\n",
       "      <td>0.258483</td>\n",
       "      <td>0.540188</td>\n",
       "      <td>0.390919</td>\n",
       "      <td>0.680361</td>\n",
       "    </tr>\n",
       "    <tr>\n",
       "      <th>399</th>\n",
       "      <td>0.700299</td>\n",
       "      <td>0.465410</td>\n",
       "      <td>0.026513</td>\n",
       "      <td>0.398044</td>\n",
       "      <td>0.923367</td>\n",
       "    </tr>\n",
       "  </tbody>\n",
       "</table>\n",
       "</div>"
      ],
      "text/plain": [
       "            0         1         2         3         4\n",
       "395  0.986391  0.606421  0.098201  0.587183  0.142799\n",
       "396  0.741060  0.397916  0.638186  0.241883  0.823038\n",
       "397  0.618040  0.252652  0.930992  0.190790  0.276203\n",
       "398  0.444991  0.258483  0.540188  0.390919  0.680361\n",
       "399  0.700299  0.465410  0.026513  0.398044  0.923367"
      ]
     },
     "execution_count": 160,
     "metadata": {},
     "output_type": "execute_result"
    }
   ],
   "source": [
    "df.tail()"
   ]
  },
  {
   "cell_type": "code",
   "execution_count": 161,
   "id": "edad844a-e5b2-403f-a369-7bbe3a05d482",
   "metadata": {},
   "outputs": [
    {
     "data": {
      "text/html": [
       "<div>\n",
       "<style scoped>\n",
       "    .dataframe tbody tr th:only-of-type {\n",
       "        vertical-align: middle;\n",
       "    }\n",
       "\n",
       "    .dataframe tbody tr th {\n",
       "        vertical-align: top;\n",
       "    }\n",
       "\n",
       "    .dataframe thead th {\n",
       "        text-align: right;\n",
       "    }\n",
       "</style>\n",
       "<table border=\"1\" class=\"dataframe\">\n",
       "  <thead>\n",
       "    <tr style=\"text-align: right;\">\n",
       "      <th></th>\n",
       "      <th>0</th>\n",
       "      <th>1</th>\n",
       "      <th>2</th>\n",
       "      <th>3</th>\n",
       "      <th>4</th>\n",
       "    </tr>\n",
       "  </thead>\n",
       "  <tbody>\n",
       "    <tr>\n",
       "      <th>count</th>\n",
       "      <td>400.000000</td>\n",
       "      <td>400.000000</td>\n",
       "      <td>400.000000</td>\n",
       "      <td>400.000000</td>\n",
       "      <td>400.000000</td>\n",
       "    </tr>\n",
       "    <tr>\n",
       "      <th>mean</th>\n",
       "      <td>0.498163</td>\n",
       "      <td>0.496120</td>\n",
       "      <td>0.507040</td>\n",
       "      <td>0.505905</td>\n",
       "      <td>0.477259</td>\n",
       "    </tr>\n",
       "    <tr>\n",
       "      <th>std</th>\n",
       "      <td>0.286156</td>\n",
       "      <td>0.294840</td>\n",
       "      <td>0.286162</td>\n",
       "      <td>0.291549</td>\n",
       "      <td>0.278083</td>\n",
       "    </tr>\n",
       "    <tr>\n",
       "      <th>min</th>\n",
       "      <td>0.008773</td>\n",
       "      <td>0.005609</td>\n",
       "      <td>0.001937</td>\n",
       "      <td>0.000380</td>\n",
       "      <td>0.002292</td>\n",
       "    </tr>\n",
       "    <tr>\n",
       "      <th>25%</th>\n",
       "      <td>0.236607</td>\n",
       "      <td>0.231247</td>\n",
       "      <td>0.269887</td>\n",
       "      <td>0.258605</td>\n",
       "      <td>0.256765</td>\n",
       "    </tr>\n",
       "    <tr>\n",
       "      <th>50%</th>\n",
       "      <td>0.475031</td>\n",
       "      <td>0.487867</td>\n",
       "      <td>0.521752</td>\n",
       "      <td>0.512403</td>\n",
       "      <td>0.449266</td>\n",
       "    </tr>\n",
       "    <tr>\n",
       "      <th>75%</th>\n",
       "      <td>0.763454</td>\n",
       "      <td>0.758893</td>\n",
       "      <td>0.748280</td>\n",
       "      <td>0.770646</td>\n",
       "      <td>0.713375</td>\n",
       "    </tr>\n",
       "    <tr>\n",
       "      <th>max</th>\n",
       "      <td>0.996732</td>\n",
       "      <td>0.999995</td>\n",
       "      <td>0.999090</td>\n",
       "      <td>0.999648</td>\n",
       "      <td>0.996153</td>\n",
       "    </tr>\n",
       "  </tbody>\n",
       "</table>\n",
       "</div>"
      ],
      "text/plain": [
       "                0           1           2           3           4\n",
       "count  400.000000  400.000000  400.000000  400.000000  400.000000\n",
       "mean     0.498163    0.496120    0.507040    0.505905    0.477259\n",
       "std      0.286156    0.294840    0.286162    0.291549    0.278083\n",
       "min      0.008773    0.005609    0.001937    0.000380    0.002292\n",
       "25%      0.236607    0.231247    0.269887    0.258605    0.256765\n",
       "50%      0.475031    0.487867    0.521752    0.512403    0.449266\n",
       "75%      0.763454    0.758893    0.748280    0.770646    0.713375\n",
       "max      0.996732    0.999995    0.999090    0.999648    0.996153"
      ]
     },
     "execution_count": 161,
     "metadata": {},
     "output_type": "execute_result"
    }
   ],
   "source": [
    "df.describe()"
   ]
  },
  {
   "cell_type": "markdown",
   "id": "684cff07-ad52-4412-8fd7-6a9a4992b649",
   "metadata": {},
   "source": [
    "## Series"
   ]
  },
  {
   "cell_type": "code",
   "execution_count": 61,
   "id": "259a49f6-6137-4474-a100-22806d3d3fe2",
   "metadata": {},
   "outputs": [],
   "source": [
    "import numpy as np"
   ]
  },
  {
   "cell_type": "code",
   "execution_count": 63,
   "id": "7d235c02-ba14-4146-98c6-757402f2046c",
   "metadata": {},
   "outputs": [
    {
     "data": {
      "text/plain": [
       "array([1, 5, 3, 2, 4, 8, 9, 4, 9, 1, 7, 2])"
      ]
     },
     "execution_count": 63,
     "metadata": {},
     "output_type": "execute_result"
    }
   ],
   "source": [
    "a = np.random.randint(1,10,12)\n",
    "a"
   ]
  },
  {
   "cell_type": "code",
   "execution_count": 78,
   "id": "5c4e5cde-8a17-4109-b947-a381c2edc3bf",
   "metadata": {},
   "outputs": [
    {
     "data": {
      "text/plain": [
       "1     1\n",
       "2     5\n",
       "3     3\n",
       "4     2\n",
       "5     4\n",
       "6     8\n",
       "7     9\n",
       "8     4\n",
       "9     9\n",
       "10    1\n",
       "11    7\n",
       "12    2\n",
       "dtype: int32"
      ]
     },
     "execution_count": 78,
     "metadata": {},
     "output_type": "execute_result"
    }
   ],
   "source": [
    "a = pd.Series(a , index=[i for i in range(1,len(a)+1)])\n",
    "a"
   ]
  },
  {
   "cell_type": "code",
   "execution_count": 91,
   "id": "780691b6-822a-4f71-81db-0b7826301a6f",
   "metadata": {},
   "outputs": [
    {
     "name": "stderr",
     "output_type": "stream",
     "text": [
      "C:\\Users\\Dell\\AppData\\Local\\Temp\\ipykernel_14036\\3824393332.py:2: FutureWarning: The behavior of `series[i:j]` with an integer-dtype index is deprecated. In a future version, this will be treated as *label-based* indexing, consistent with e.g. `series[i]` lookups. To retain the old behavior, use `series.iloc[i:j]`. To get the future behavior, use `series.loc[i:j]`.\n",
      "  a[1:3]\n"
     ]
    },
    {
     "data": {
      "text/plain": [
       "1     1\n",
       "3     3\n",
       "5     4\n",
       "7     9\n",
       "9     9\n",
       "11    7\n",
       "dtype: int32"
      ]
     },
     "execution_count": 91,
     "metadata": {},
     "output_type": "execute_result"
    }
   ],
   "source": [
    "a[1]\n",
    "a[1:3]\n",
    "a[:]     # Complete Series\n",
    "a[::-1]  # Reverse the index\n",
    "a[::2]   # Jumping/Skipping the indexes"
   ]
  },
  {
   "cell_type": "code",
   "execution_count": 92,
   "id": "56b6e474-5228-48ee-9d68-c2c4223a0497",
   "metadata": {},
   "outputs": [
    {
     "data": {
      "text/plain": [
       "2     5\n",
       "5     4\n",
       "6     8\n",
       "7     9\n",
       "8     4\n",
       "9     9\n",
       "11    7\n",
       "dtype: int32"
      ]
     },
     "execution_count": 92,
     "metadata": {},
     "output_type": "execute_result"
    }
   ],
   "source": [
    "a[a>3]"
   ]
  },
  {
   "cell_type": "markdown",
   "id": "4e9cbb26-e481-439b-920d-75522631977b",
   "metadata": {},
   "source": [
    "## Mathematical Operations"
   ]
  },
  {
   "cell_type": "code",
   "execution_count": 101,
   "id": "10014cf2-0aa7-403f-9a56-9992424c343c",
   "metadata": {},
   "outputs": [
    {
     "data": {
      "text/plain": [
       "0    148\n",
       "1    195\n",
       "2     47\n",
       "3    178\n",
       "4    163\n",
       "dtype: int32"
      ]
     },
     "execution_count": 101,
     "metadata": {},
     "output_type": "execute_result"
    }
   ],
   "source": [
    "s1 = np.random.randint(1,2000,8)\n",
    "s1 = pd.Series(s1 , index = [i for i in range(1,len(s1)+1)])\n",
    "s2 = np.random.randint(1,300,5)\n",
    "s2 = pd.Series(s2)\n",
    "s2"
   ]
  },
  {
   "cell_type": "code",
   "execution_count": 102,
   "id": "fa35b4da-3985-4afc-9493-a2d159f1c518",
   "metadata": {},
   "outputs": [
    {
     "name": "stdout",
     "output_type": "stream",
     "text": [
      "0       NaN\n",
      "1    1742.0\n",
      "2     323.0\n",
      "3    1251.0\n",
      "4    1380.0\n",
      "5       NaN\n",
      "6       NaN\n",
      "7       NaN\n",
      "8       NaN\n",
      "dtype: float64\n"
     ]
    }
   ],
   "source": [
    "s =s1+s2\n",
    "print(s)"
   ]
  },
  {
   "cell_type": "code",
   "execution_count": 103,
   "id": "60283125-2b48-43bd-abeb-f23b236f7439",
   "metadata": {},
   "outputs": [
    {
     "data": {
      "text/plain": [
       "1     82\n",
       "2     65\n",
       "3    243\n",
       "4    217\n",
       "5    208\n",
       "dtype: int32"
      ]
     },
     "execution_count": 103,
     "metadata": {},
     "output_type": "execute_result"
    }
   ],
   "source": [
    "s1 = np.random.randint(1,2000,8)\n",
    "s1 = pd.Series(s1 , index = [i for i in range(1,len(s1)+1)])\n",
    "s2 = np.random.randint(1,300,5)\n",
    "s2 = pd.Series(s2, index = [i for i in range(1,len(s2)+1)])\n",
    "s2"
   ]
  },
  {
   "cell_type": "code",
   "execution_count": 105,
   "id": "f5b97a37-8500-464c-a224-2b65e9a9b861",
   "metadata": {},
   "outputs": [
    {
     "data": {
      "text/plain": [
       "1     439.0\n",
       "2    1183.0\n",
       "3    1002.0\n",
       "4     369.0\n",
       "5     217.0\n",
       "6       NaN\n",
       "7       NaN\n",
       "8       NaN\n",
       "dtype: float64"
      ]
     },
     "execution_count": 105,
     "metadata": {},
     "output_type": "execute_result"
    }
   ],
   "source": [
    "s = s1+s2\n",
    "s"
   ]
  },
  {
   "cell_type": "code",
   "execution_count": 126,
   "id": "a2044ea6-9cf3-428f-a080-3c0850605d4a",
   "metadata": {},
   "outputs": [
    {
     "data": {
      "text/plain": [
       "1     275.0\n",
       "2    1053.0\n",
       "3     516.0\n",
       "4     -65.0\n",
       "5    -199.0\n",
       "6       NaN\n",
       "7       NaN\n",
       "8       NaN\n",
       "dtype: float64"
      ]
     },
     "execution_count": 126,
     "metadata": {},
     "output_type": "execute_result"
    }
   ],
   "source": [
    "s1-s2"
   ]
  },
  {
   "cell_type": "code",
   "execution_count": 127,
   "id": "10e99d2e-1103-4635-8b34-0e3451e1a5e9",
   "metadata": {},
   "outputs": [
    {
     "data": {
      "text/plain": [
       "1     29274.0\n",
       "2     72670.0\n",
       "3    184437.0\n",
       "4     32984.0\n",
       "5      1872.0\n",
       "6         NaN\n",
       "7         NaN\n",
       "8         NaN\n",
       "dtype: float64"
      ]
     },
     "execution_count": 127,
     "metadata": {},
     "output_type": "execute_result"
    }
   ],
   "source": [
    "s1*s2"
   ]
  },
  {
   "cell_type": "code",
   "execution_count": 128,
   "id": "f3c69423-df36-49a9-9b85-df3917db1e59",
   "metadata": {},
   "outputs": [
    {
     "data": {
      "text/plain": [
       "1     4.353659\n",
       "2    17.200000\n",
       "3     3.123457\n",
       "4     0.700461\n",
       "5     0.043269\n",
       "6          NaN\n",
       "7          NaN\n",
       "8          NaN\n",
       "dtype: float64"
      ]
     },
     "execution_count": 128,
     "metadata": {},
     "output_type": "execute_result"
    }
   ],
   "source": [
    "s1/s2"
   ]
  },
  {
   "cell_type": "code",
   "execution_count": 129,
   "id": "7dc21311-34ef-49d0-8d14-a43d3da9c940",
   "metadata": {},
   "outputs": [
    {
     "data": {
      "text/plain": [
       "1     29.0\n",
       "2     13.0\n",
       "3     30.0\n",
       "4    152.0\n",
       "5      9.0\n",
       "6      NaN\n",
       "7      NaN\n",
       "8      NaN\n",
       "dtype: float64"
      ]
     },
     "execution_count": 129,
     "metadata": {},
     "output_type": "execute_result"
    }
   ],
   "source": [
    "s1%s2"
   ]
  },
  {
   "cell_type": "code",
   "execution_count": 112,
   "id": "7d08bbc8-5794-412b-9102-0291fa3bb018",
   "metadata": {},
   "outputs": [
    {
     "data": {
      "text/plain": [
       "3210.0"
      ]
     },
     "execution_count": 112,
     "metadata": {},
     "output_type": "execute_result"
    }
   ],
   "source": [
    "s.sum()"
   ]
  },
  {
   "cell_type": "code",
   "execution_count": 113,
   "id": "59029035-265c-4b6f-815d-6af16ef1c103",
   "metadata": {},
   "outputs": [
    {
     "data": {
      "text/plain": [
       "1183.0"
      ]
     },
     "execution_count": 113,
     "metadata": {},
     "output_type": "execute_result"
    }
   ],
   "source": [
    "max(s)"
   ]
  },
  {
   "cell_type": "code",
   "execution_count": 114,
   "id": "4a18ed8e-5100-4981-8627-9693947dc948",
   "metadata": {},
   "outputs": [
    {
     "data": {
      "text/plain": [
       "217.0"
      ]
     },
     "execution_count": 114,
     "metadata": {},
     "output_type": "execute_result"
    }
   ],
   "source": [
    "min(s)"
   ]
  },
  {
   "cell_type": "code",
   "execution_count": 117,
   "id": "c6c3f1a8-3aee-43e1-ac66-73372f2635d6",
   "metadata": {},
   "outputs": [
    {
     "data": {
      "text/plain": [
       "642.0"
      ]
     },
     "execution_count": 117,
     "metadata": {},
     "output_type": "execute_result"
    }
   ],
   "source": [
    "s.mean()"
   ]
  },
  {
   "cell_type": "code",
   "execution_count": 119,
   "id": "9e85a17e-e4cd-43c8-b53b-1d4ec2520ea9",
   "metadata": {},
   "outputs": [
    {
     "data": {
      "text/plain": [
       "0     217.0\n",
       "1     369.0\n",
       "2     439.0\n",
       "3    1002.0\n",
       "4    1183.0\n",
       "dtype: float64"
      ]
     },
     "execution_count": 119,
     "metadata": {},
     "output_type": "execute_result"
    }
   ],
   "source": [
    "s.mode()"
   ]
  },
  {
   "cell_type": "code",
   "execution_count": 120,
   "id": "6741a224-19bd-47b6-8671-5b228ed247f6",
   "metadata": {},
   "outputs": [
    {
     "name": "stdout",
     "output_type": "stream",
     "text": [
      "<class 'pandas.core.series.Series'>\n",
      "Int64Index: 8 entries, 1 to 8\n",
      "Series name: None\n",
      "Non-Null Count  Dtype  \n",
      "--------------  -----  \n",
      "5 non-null      float64\n",
      "dtypes: float64(1)\n",
      "memory usage: 128.0 bytes\n"
     ]
    }
   ],
   "source": [
    "s.info()"
   ]
  },
  {
   "cell_type": "code",
   "execution_count": 121,
   "id": "6fea7650-67f3-4dc0-b6a7-c776914b79d6",
   "metadata": {},
   "outputs": [
    {
     "data": {
      "text/plain": [
       "count       5.000000\n",
       "mean      642.000000\n",
       "std       423.864365\n",
       "min       217.000000\n",
       "25%       369.000000\n",
       "50%       439.000000\n",
       "75%      1002.000000\n",
       "max      1183.000000\n",
       "dtype: float64"
      ]
     },
     "execution_count": 121,
     "metadata": {},
     "output_type": "execute_result"
    }
   ],
   "source": [
    "s.describe()"
   ]
  },
  {
   "cell_type": "code",
   "execution_count": 134,
   "id": "9cc9fdbe-5872-422c-ac84-0ca881c985ce",
   "metadata": {},
   "outputs": [
    {
     "data": {
      "text/plain": [
       "0    1     439.0\n",
       "2    1183.0\n",
       "3    1002.0\n",
       "4     369....\n",
       "1    1     357\n",
       "2    1118\n",
       "3     759\n",
       "4     152\n",
       "5     ...\n",
       "2    1     82\n",
       "2     65\n",
       "3    243\n",
       "4    217\n",
       "5    208\n",
       "d...\n",
       "dtype: object"
      ]
     },
     "execution_count": 134,
     "metadata": {},
     "output_type": "execute_result"
    }
   ],
   "source": [
    "s,s1,s2\n",
    "pd.Series([s,s1,s2])"
   ]
  },
  {
   "cell_type": "code",
   "execution_count": null,
   "id": "e13d1e87-3f4d-4dec-82d5-44359857f44e",
   "metadata": {},
   "outputs": [],
   "source": []
  }
 ],
 "metadata": {
  "kernelspec": {
   "display_name": "Python 3 (ipykernel)",
   "language": "python",
   "name": "python3"
  },
  "language_info": {
   "codemirror_mode": {
    "name": "ipython",
    "version": 3
   },
   "file_extension": ".py",
   "mimetype": "text/x-python",
   "name": "python",
   "nbconvert_exporter": "python",
   "pygments_lexer": "ipython3",
   "version": "3.9.13"
  },
  "widgets": {
   "application/vnd.jupyter.widget-state+json": {
    "state": {},
    "version_major": 2,
    "version_minor": 0
   }
  }
 },
 "nbformat": 4,
 "nbformat_minor": 5
}
