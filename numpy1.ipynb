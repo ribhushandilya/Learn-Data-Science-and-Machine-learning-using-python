{
 "cells": [
  {
   "cell_type": "code",
   "execution_count": 4,
   "id": "fe9c42a3-986a-4cba-88b4-44a18d37b82c",
   "metadata": {},
   "outputs": [],
   "source": [
    "import numpy as np"
   ]
  },
  {
   "cell_type": "code",
   "execution_count": 5,
   "id": "c41ac888-a3b6-4cbb-87f0-7609dac483ef",
   "metadata": {},
   "outputs": [
    {
     "name": "stdout",
     "output_type": "stream",
     "text": [
      "3\n"
     ]
    }
   ],
   "source": [
    "# 0-D Array\n",
    "arr1 = np.array(3)\n",
    "print(arr1)"
   ]
  },
  {
   "cell_type": "code",
   "execution_count": 6,
   "id": "88b330c0-047b-478b-97b0-171bfc8ac5bf",
   "metadata": {},
   "outputs": [
    {
     "name": "stdout",
     "output_type": "stream",
     "text": [
      "[2 3 4 5]\n"
     ]
    }
   ],
   "source": [
    "#1-D array\n",
    "arr2 = np. array([2,3,4,5])\n",
    "print(arr2)"
   ]
  },
  {
   "cell_type": "code",
   "execution_count": 8,
   "id": "2c7fc227-3d33-41ab-8840-874bee94e49f",
   "metadata": {},
   "outputs": [
    {
     "name": "stdout",
     "output_type": "stream",
     "text": [
      "[[2 3 4 5]\n",
      " [3 2 4 2]]\n"
     ]
    }
   ],
   "source": [
    "# 2-D Array\n",
    "arr3 = np.array([[2,3,4,5],[3,2,4,2]])\n",
    "print(arr3)"
   ]
  },
  {
   "cell_type": "code",
   "execution_count": 14,
   "id": "0e8070f6-62dd-466b-a51b-acfc966bb1ab",
   "metadata": {},
   "outputs": [
    {
     "name": "stdout",
     "output_type": "stream",
     "text": [
      "[[[2 3 4 5]\n",
      "  [4 3 5 7]]\n",
      "\n",
      " [[2 3 4 5]\n",
      "  [4 3 5 7]]\n",
      "\n",
      " [[4 3 5 7]\n",
      "  [5 4 3 5]]]\n"
     ]
    }
   ],
   "source": [
    "# 3-D Array\n",
    "arr4 = np.array([[[2,3,4,5],[4,3,5,7]],[[2,3,4,5],[4,3,5,7]],[[4,3,5,7],[5,4,3,5]]])\n",
    "print(arr4)"
   ]
  },
  {
   "cell_type": "code",
   "execution_count": 16,
   "id": "2997f6e6-10ef-4e7a-bb7e-d97560ddb53f",
   "metadata": {},
   "outputs": [
    {
     "name": "stdout",
     "output_type": "stream",
     "text": [
      "[[[12 13 14 15]\n",
      "  [14 13 15 17]]\n",
      "\n",
      " [[12 13 14 15]\n",
      "  [14 13 15 17]]\n",
      "\n",
      " [[14 13 15 17]\n",
      "  [15 14 13 15]]]\n"
     ]
    }
   ],
   "source": [
    "arr4 = arr4+10\n",
    "print(arr4)"
   ]
  },
  {
   "cell_type": "code",
   "execution_count": 36,
   "id": "52144459-7218-43db-8aeb-28b2fb28d5ff",
   "metadata": {},
   "outputs": [
    {
     "name": "stdout",
     "output_type": "stream",
     "text": [
      "3\n"
     ]
    }
   ],
   "source": [
    "print(arr4.ndim)"
   ]
  },
  {
   "cell_type": "code",
   "execution_count": 37,
   "id": "fb036127-1a0c-4845-9480-3b30cc662d20",
   "metadata": {},
   "outputs": [
    {
     "data": {
      "text/plain": [
       "dtype('int32')"
      ]
     },
     "execution_count": 37,
     "metadata": {},
     "output_type": "execute_result"
    }
   ],
   "source": [
    "arr4.dtype"
   ]
  },
  {
   "cell_type": "code",
   "execution_count": 17,
   "id": "7bcd1002-23be-44c2-884d-d6338592653f",
   "metadata": {},
   "outputs": [
    {
     "name": "stdout",
     "output_type": "stream",
     "text": [
      "[[[24 26 28 30]\n",
      "  [28 26 30 34]]\n",
      "\n",
      " [[24 26 28 30]\n",
      "  [28 26 30 34]]\n",
      "\n",
      " [[28 26 30 34]\n",
      "  [30 28 26 30]]]\n"
     ]
    }
   ],
   "source": [
    "arr4 = arr4*2\n",
    "print(arr4)"
   ]
  },
  {
   "cell_type": "code",
   "execution_count": 21,
   "id": "cc81a9b8-a0b0-4e2c-b329-09503c4f2831",
   "metadata": {},
   "outputs": [
    {
     "name": "stdout",
     "output_type": "stream",
     "text": [
      "[[19 22]\n",
      " [43 50]]\n",
      "[[19 22]\n",
      " [43 50]]\n"
     ]
    }
   ],
   "source": [
    "mat1 = np.array([[1, 2], [3, 4]])\n",
    "mat2 = np.array([[5, 6], [7, 8]])\n",
    "\n",
    "mat3 = np.dot(mat1, mat2) #Multiplication of matrices using dot method\n",
    "print(mat3)\n",
    "\n",
    "\n",
    "mat4 = mat1 @ mat2     #Multiplication of matrices using @ keyword\n",
    "print(mat4)\n"
   ]
  },
  {
   "cell_type": "code",
   "execution_count": 28,
   "id": "6ae715d0-0988-4c17-ac9a-156a5be3816b",
   "metadata": {},
   "outputs": [
    {
     "name": "stdout",
     "output_type": "stream",
     "text": [
      "2\n",
      "[[1 2]\n",
      " [3 4]]\n"
     ]
    }
   ],
   "source": [
    "# Slicing and indexing of an array\n",
    "print(mat1[0,1])  # indexing\n",
    "print(mat1[0:])   #Slicing"
   ]
  },
  {
   "cell_type": "code",
   "execution_count": 43,
   "id": "0e51ce6a-1ca8-4e1c-bdbc-40e19392a26f",
   "metadata": {},
   "outputs": [
    {
     "name": "stdout",
     "output_type": "stream",
     "text": [
      "[[1. 1. 1.]\n",
      " [1. 1. 1.]\n",
      " [1. 1. 1.]]\n"
     ]
    },
    {
     "data": {
      "text/plain": [
       "array([[0., 0., 0., 0.],\n",
       "       [0., 0., 0., 0.],\n",
       "       [0., 0., 0., 0.]])"
      ]
     },
     "execution_count": 43,
     "metadata": {},
     "output_type": "execute_result"
    }
   ],
   "source": [
    "ones_arr = np.ones([3,3])\n",
    "print(ones_arr)\n",
    "\n",
    "zeros_arr = np.zeros([3,4])\n",
    "zeros_arr"
   ]
  },
  {
   "cell_type": "code",
   "execution_count": 52,
   "id": "3ac45ba2-acee-45d9-b234-0d891fd79859",
   "metadata": {},
   "outputs": [
    {
     "name": "stdout",
     "output_type": "stream",
     "text": [
      "(array([ 0.  ,  1.25,  2.5 ,  3.75,  5.  ,  6.25,  7.5 ,  8.75, 10.  ]), 1.25)\n",
      "[0 2 4 6 8]\n"
     ]
    }
   ],
   "source": [
    "# linspace - generates numbers evenly spaced over a specified interval\n",
    "arrr1 = np.linspace(0, 10, 9)\n",
    "print(arrr) \n",
    "\n",
    "arange_ar = np.arange(0, 10, 2)\n",
    "print(arange_ar)\n"
   ]
  },
  {
   "cell_type": "code",
   "execution_count": 53,
   "id": "f43fbe89-ccbb-413a-a1c9-a4f85e302ab5",
   "metadata": {},
   "outputs": [
    {
     "name": "stdout",
     "output_type": "stream",
     "text": [
      "(array([ 0.  ,  1.25,  2.5 ,  3.75,  5.  ,  6.25,  7.5 ,  8.75, 10.  ]), 1.25)\n"
     ]
    }
   ],
   "source": [
    "arrr2 = np.linspace(0, 10, 9,endpoint = False,retstep=False)\n",
    "print(arrr)  \n"
   ]
  },
  {
   "cell_type": "code",
   "execution_count": 54,
   "id": "05b44036-86f5-4fe2-aa3d-df3a0405e29a",
   "metadata": {},
   "outputs": [
    {
     "name": "stdout",
     "output_type": "stream",
     "text": [
      "(array([ 0.  ,  1.25,  2.5 ,  3.75,  5.  ,  6.25,  7.5 ,  8.75, 10.  ]), 1.25)\n"
     ]
    }
   ],
   "source": [
    "arrr3 = np.linspace(0, 10, 9,endpoint = True,retstep=True)\n",
    "print(arrr)  "
   ]
  },
  {
   "cell_type": "code",
   "execution_count": 64,
   "id": "e70ce7e7-9636-4cd0-88ec-cc4c6a54046d",
   "metadata": {},
   "outputs": [
    {
     "name": "stdout",
     "output_type": "stream",
     "text": [
      "Original Array:\n",
      "[[1 2 3]\n",
      " [4 5 6]\n",
      " [7 8 9]]\n",
      "Flattened Array:\n",
      "[1 2 3 4 5 6 7 8 9]\n"
     ]
    }
   ],
   "source": [
    "arr = np.array([[1, 2, 3], [4, 5, 6], [7, 8, 9]])\n",
    "print(\"Original Array:\")\n",
    "print(arr)\n",
    "\n",
    "\n",
    "flattened_arr = arr.flatten()\n",
    "print(\"Flattened Array:\")\n",
    "print(flattened_arr)\n"
   ]
  },
  {
   "cell_type": "code",
   "execution_count": 65,
   "id": "c735514d-545c-475a-b441-3badb850ccf5",
   "metadata": {},
   "outputs": [
    {
     "name": "stdout",
     "output_type": "stream",
     "text": [
      "Original Array:\n",
      "[[1 2 3]\n",
      " [4 5 6]\n",
      " [7 8 9]]\n",
      "Flattened Array:\n",
      "[1 4 7 2 5 8 3 6 9]\n"
     ]
    }
   ],
   "source": [
    "arr = np.array([[1, 2, 3], [4, 5, 6], [7, 8, 9]])\n",
    "print(\"Original Array:\")\n",
    "print(arr)\n",
    "\n",
    "\n",
    "flattened_arr = arr.flatten(order = 'f')\n",
    "print(\"Flattened Array:\")\n",
    "print(flattened_arr)\n"
   ]
  },
  {
   "cell_type": "code",
   "execution_count": 78,
   "id": "06b06c6c-219f-44c2-a790-952dd63e9f35",
   "metadata": {},
   "outputs": [
    {
     "name": "stdout",
     "output_type": "stream",
     "text": [
      "Original Array:\n",
      "[[1 2 3]\n",
      " [4 5 6]\n",
      " [7 8 9]]\n",
      "Flattened Array:\n",
      "[1 2 3 4 5 6 7 8 9]\n"
     ]
    }
   ],
   "source": [
    "arr = np.array([[1, 2, 3], [4, 5, 6], [7, 8, 9]])\n",
    "print(\"Original Array:\")\n",
    "print(arr)\n",
    "\n",
    "\n",
    "flattened_arr = arr.flatten(order = 'k')\n",
    "print(\"Flattened Array:\")\n",
    "print(flattened_arr)\n"
   ]
  },
  {
   "cell_type": "code",
   "execution_count": 87,
   "id": "1a7343c4-e657-4215-a501-58daef648657",
   "metadata": {},
   "outputs": [
    {
     "name": "stdout",
     "output_type": "stream",
     "text": [
      "[1 2 3 4 5 6 7 8 9]\n"
     ]
    }
   ],
   "source": [
    "flattened_arr=flattened_arr.transpose()\n",
    "print(flattened_arr)"
   ]
  },
  {
   "cell_type": "code",
   "execution_count": 88,
   "id": "b54f38a6-b858-49a2-940e-27f3e7c15c9a",
   "metadata": {},
   "outputs": [
    {
     "data": {
      "text/plain": [
       "array([1, 2, 3, 4, 5, 6, 7, 8, 9])"
      ]
     },
     "execution_count": 88,
     "metadata": {},
     "output_type": "execute_result"
    }
   ],
   "source": [
    "flattened_arr.T"
   ]
  },
  {
   "cell_type": "code",
   "execution_count": 91,
   "id": "ddfe1637-32cc-4d1f-89a0-d5efe8cb4fda",
   "metadata": {},
   "outputs": [
    {
     "name": "stdout",
     "output_type": "stream",
     "text": [
      "The sum of all elements:  37\n",
      "The mean of all elements:  4.625\n",
      "maximum value:  9\n",
      "minimum value:  0\n",
      "The standard deviation of all elements:  2.595067436503337\n"
     ]
    }
   ],
   "source": [
    "# sum of all elements\n",
    "arr1 = np.array([4,5,9,3,7,0,3,6])\n",
    "sum_value = np.sum(arr1)\n",
    "print(\"The sum of all elements: \",sum_value) \n",
    "\n",
    "# mean of all elements\n",
    "mean_value = np.mean(arr1)\n",
    "print(\"The mean of all elements: \",mean_value)  \n",
    "\n",
    "# maximum and minimum values\n",
    "max_value = np.max(arr1)\n",
    "min_value = np.min(arr1)\n",
    "print(\"maximum value: \",max_value)  \n",
    "print(\"minimum value: \",min_value)  \n",
    "\n",
    "# standard deviation\n",
    "std_value = np.std(arr1)\n",
    "print(\"The standard deviation of all elements: \",std_value)  \n"
   ]
  },
  {
   "cell_type": "code",
   "execution_count": 21,
   "id": "2ee681e8-7c0c-48e1-897c-b466a6868e2f",
   "metadata": {},
   "outputs": [
    {
     "name": "stdin",
     "output_type": "stream",
     "text": [
      "Enter the shape of array i.e., 2 X 2 = 2 2  3 2\n",
      "Enter Your numbers with a space between two numbers  2 3 4 5 2 3\n"
     ]
    },
    {
     "name": "stdout",
     "output_type": "stream",
     "text": [
      "[[2 3]\n",
      " [4 5]\n",
      " [2 3]]\n",
      "[[2 3 4]\n",
      " [5 2 3]]\n"
     ]
    }
   ],
   "source": [
    "shape = input(\"Enter the shape of array i.e., 2 X 2 = 2 2 \").split()\n",
    "inp = input(\"Enter Your numbers with a space between two numbers \").split()\n",
    "arr = np.array([int(i) for i in inp]).reshape(tuple(map(int, shape)))\n",
    "print(arr)\n",
    "#print(arr.ravel())\n",
    "print(arr.reshape(2,3))"
   ]
  },
  {
   "cell_type": "code",
   "execution_count": null,
   "id": "781bcaf0-6de8-4e19-b245-b3afca5bfd07",
   "metadata": {},
   "outputs": [],
   "source": []
  }
 ],
 "metadata": {
  "kernelspec": {
   "display_name": "Python 3 (ipykernel)",
   "language": "python",
   "name": "python3"
  },
  "language_info": {
   "codemirror_mode": {
    "name": "ipython",
    "version": 3
   },
   "file_extension": ".py",
   "mimetype": "text/x-python",
   "name": "python",
   "nbconvert_exporter": "python",
   "pygments_lexer": "ipython3",
   "version": "3.9.13"
  },
  "widgets": {
   "application/vnd.jupyter.widget-state+json": {
    "state": {},
    "version_major": 2,
    "version_minor": 0
   }
  }
 },
 "nbformat": 4,
 "nbformat_minor": 5
}
