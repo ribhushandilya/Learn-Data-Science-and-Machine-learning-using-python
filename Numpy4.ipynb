{
 "cells": [
  {
   "cell_type": "markdown",
   "id": "e3bb880d-c200-40a8-8106-04cfca8e86be",
   "metadata": {},
   "source": [
    "## Random in python with numpy"
   ]
  },
  {
   "cell_type": "code",
   "execution_count": 1,
   "id": "9cc52c97-0471-41d4-b153-0291858788f5",
   "metadata": {},
   "outputs": [],
   "source": [
    "import numpy as np\n",
    "import random"
   ]
  },
  {
   "cell_type": "code",
   "execution_count": 2,
   "id": "8d2904e2-4fe2-4ab8-9eae-339178c6b08a",
   "metadata": {},
   "outputs": [
    {
     "data": {
      "text/plain": [
       "array([[8, 4, 1],\n",
       "       [8, 8, 2],\n",
       "       [1, 2, 9],\n",
       "       [1, 6, 3],\n",
       "       [6, 3, 8]])"
      ]
     },
     "execution_count": 2,
     "metadata": {},
     "output_type": "execute_result"
    }
   ],
   "source": [
    "a = np.random.randint(1,10,15).reshape(5,3)\n",
    "a"
   ]
  },
  {
   "cell_type": "code",
   "execution_count": 3,
   "id": "b02ab027-b1ea-4187-b69e-8c6ba5feb20d",
   "metadata": {},
   "outputs": [
    {
     "data": {
      "text/plain": [
       "array([0.04388849, 0.08844595, 0.16833519, 0.01128736, 0.42645995,\n",
       "       0.06582571, 0.1708761 , 0.94999471, 0.82032362, 0.43531395])"
      ]
     },
     "execution_count": 3,
     "metadata": {},
     "output_type": "execute_result"
    }
   ],
   "source": [
    "b = np.random.random(10)\n",
    "b"
   ]
  },
  {
   "cell_type": "code",
   "execution_count": 4,
   "id": "7ebd8580-cd6a-4e20-8cc9-487aa9e7971a",
   "metadata": {},
   "outputs": [
    {
     "data": {
      "text/plain": [
       "array([[[0.04954674, 0.47971539, 0.65001447],\n",
       "        [0.84055615, 0.65042751, 0.3695709 ],\n",
       "        [0.69699117, 0.95890341, 0.50475062]],\n",
       "\n",
       "       [[0.78023396, 0.41038547, 0.43143829],\n",
       "        [0.53668859, 0.03930606, 0.71254068],\n",
       "        [0.49725983, 0.0912064 , 0.10299931]],\n",
       "\n",
       "       [[0.45273842, 0.31304546, 0.86700351],\n",
       "        [0.41295769, 0.43697485, 0.05964547],\n",
       "        [0.82997365, 0.19508115, 0.89470738]]])"
      ]
     },
     "execution_count": 4,
     "metadata": {},
     "output_type": "execute_result"
    }
   ],
   "source": [
    "c = np.random.random((3,3,3))\n",
    "c"
   ]
  },
  {
   "cell_type": "code",
   "execution_count": 5,
   "id": "e3c1f2e5-c322-4a8f-9bbc-fe776083c203",
   "metadata": {},
   "outputs": [
    {
     "data": {
      "text/plain": [
       "array([[4, 5, 7],\n",
       "       [7, 5, 5],\n",
       "       [1, 1, 4],\n",
       "       [3, 7, 1]])"
      ]
     },
     "execution_count": 5,
     "metadata": {},
     "output_type": "execute_result"
    }
   ],
   "source": [
    "np.random.randint(1,10,(4,3))"
   ]
  },
  {
   "cell_type": "code",
   "execution_count": 6,
   "id": "4c843d6f-aaa0-48d2-8a8c-df25ba8a4750",
   "metadata": {},
   "outputs": [
    {
     "data": {
      "text/plain": [
       "array([[[3, 6, 5],\n",
       "        [7, 6, 9],\n",
       "        [4, 7, 4],\n",
       "        [6, 3, 6]],\n",
       "\n",
       "       [[4, 2, 7],\n",
       "        [7, 4, 5],\n",
       "        [1, 7, 8],\n",
       "        [7, 8, 6]]])"
      ]
     },
     "execution_count": 6,
     "metadata": {},
     "output_type": "execute_result"
    }
   ],
   "source": [
    "np.random.randint(1,10,(2,4,3))"
   ]
  },
  {
   "cell_type": "code",
   "execution_count": 7,
   "id": "57515a15-4f78-4f45-a917-d44743e60eef",
   "metadata": {},
   "outputs": [
    {
     "data": {
      "text/plain": [
       "array([1, 1, 1, 1, 1, 1, 1, 1, 1, 1, 1, 1, 1, 1, 1, 1, 1, 1, 1, 1, 1, 1,\n",
       "       1, 1, 1, 1, 1, 1, 1, 1])"
      ]
     },
     "execution_count": 7,
     "metadata": {},
     "output_type": "execute_result"
    }
   ],
   "source": [
    "np.random.seed(20)\n",
    "np.random.randint(1,2,30)"
   ]
  },
  {
   "cell_type": "code",
   "execution_count": 8,
   "id": "b4a526f9-b339-43d2-863a-c92377e2b3e7",
   "metadata": {},
   "outputs": [
    {
     "data": {
      "text/plain": [
       "array([0.5881308 , 0.89771373, 0.89153073])"
      ]
     },
     "execution_count": 8,
     "metadata": {},
     "output_type": "execute_result"
    }
   ],
   "source": [
    "np.random.rand(3)"
   ]
  },
  {
   "cell_type": "code",
   "execution_count": 9,
   "id": "5426e0c7-b18f-485c-915a-ac8c5286318e",
   "metadata": {},
   "outputs": [
    {
     "data": {
      "text/plain": [
       "array([[[0.81583748, 0.03588959, 0.69175758],\n",
       "        [0.37868094, 0.51851095, 0.65795147],\n",
       "        [0.19385022, 0.2723164 , 0.71860593]],\n",
       "\n",
       "       [[0.78300361, 0.85032764, 0.77524489],\n",
       "        [0.03666431, 0.11669374, 0.7512807 ],\n",
       "        [0.23921822, 0.25480601, 0.85762553]],\n",
       "\n",
       "       [[0.94977903, 0.56168686, 0.17878052],\n",
       "        [0.77025193, 0.49238104, 0.63125307],\n",
       "        [0.83949792, 0.4610394 , 0.49794007]]])"
      ]
     },
     "execution_count": 9,
     "metadata": {},
     "output_type": "execute_result"
    }
   ],
   "source": [
    "np.random.rand(3,3,3)"
   ]
  },
  {
   "cell_type": "code",
   "execution_count": 10,
   "id": "bb325738-5f76-4d45-9799-e833bac09732",
   "metadata": {},
   "outputs": [
    {
     "data": {
      "text/plain": [
       "array([[[ 1.12013226,  1.33277821, -0.24333877],\n",
       "        [-0.13003071, -0.10901737,  1.55618644],\n",
       "        [ 0.12877835, -2.06694872, -0.88549315]],\n",
       "\n",
       "       [[-1.10457948,  0.93286635,  2.059838  ],\n",
       "        [-0.93493796, -1.61299022,  0.52706972],\n",
       "        [-1.55110074,  0.32961334, -1.13652654]],\n",
       "\n",
       "       [[-0.3384906 ,  0.32097078, -0.60230802],\n",
       "        [ 1.54472836,  0.64703408,  0.59321721],\n",
       "        [ 0.4380245 ,  1.35778902,  1.20451128]]])"
      ]
     },
     "execution_count": 10,
     "metadata": {},
     "output_type": "execute_result"
    }
   ],
   "source": [
    "np.random.randn(3,3,3)"
   ]
  },
  {
   "cell_type": "markdown",
   "id": "1c82ca79-df9a-453f-9064-6c1ff203eb35",
   "metadata": {},
   "source": [
    " ## String operation, Comparison and Information"
   ]
  },
  {
   "cell_type": "code",
   "execution_count": 11,
   "id": "fe571528-bc8d-4e6e-830a-34ac446b6fa5",
   "metadata": {},
   "outputs": [],
   "source": [
    "s1 = \"HELLO there i'm using jupyter notebook. \"\n",
    "s2 = \"Experience of using this is just great\""
   ]
  },
  {
   "cell_type": "code",
   "execution_count": 12,
   "id": "d3027f93-ba35-400d-b4b2-1052dad2b88e",
   "metadata": {},
   "outputs": [
    {
     "data": {
      "text/plain": [
       "array(\"HELLO there i'm using jupyter notebook. Experience of using this is just great\",\n",
       "      dtype='<U78')"
      ]
     },
     "execution_count": 12,
     "metadata": {},
     "output_type": "execute_result"
    }
   ],
   "source": [
    "s= np.char.add(s1,s2)\n",
    "s"
   ]
  },
  {
   "cell_type": "code",
   "execution_count": 13,
   "id": "bf3fe6c8-01f6-4509-a0e6-b50cd1764a27",
   "metadata": {},
   "outputs": [
    {
     "data": {
      "text/plain": [
       "array(\"HELLO there i'm using jupyter notebook. Experience of using this is just greatHELLO there i'm using jupyter notebook. Experience of using this is just greatHELLO there i'm using jupyter notebook. Experience of using this is just great\",\n",
       "      dtype='<U234')"
      ]
     },
     "execution_count": 13,
     "metadata": {},
     "output_type": "execute_result"
    }
   ],
   "source": [
    "np.char.multiply(s,3)"
   ]
  },
  {
   "cell_type": "code",
   "execution_count": 14,
   "id": "1075c44e-648d-4d72-8484-de7b029b50d4",
   "metadata": {},
   "outputs": [
    {
     "data": {
      "text/plain": [
       "array(\"hello there i'm using jupyter notebook. experience of using this is just great\",\n",
       "      dtype='<U78')"
      ]
     },
     "execution_count": 14,
     "metadata": {},
     "output_type": "execute_result"
    }
   ],
   "source": [
    "np.char.lower(s)"
   ]
  },
  {
   "cell_type": "code",
   "execution_count": 15,
   "id": "0fa16819-8878-4514-8f80-ff90dcc4c483",
   "metadata": {},
   "outputs": [
    {
     "data": {
      "text/plain": [
       "array(\"                         HELLO there i'm using jupyter notebook.                          \",\n",
       "      dtype='<U90')"
      ]
     },
     "execution_count": 15,
     "metadata": {},
     "output_type": "execute_result"
    }
   ],
   "source": [
    "np.char.center(s1,90)"
   ]
  },
  {
   "cell_type": "code",
   "execution_count": 16,
   "id": "99a6856c-c004-4361-8b56-38e449bbd183",
   "metadata": {},
   "outputs": [
    {
     "data": {
      "text/plain": [
       "array(list(['HELLO', 'there', \"i'm\", 'using', 'jupyter', 'notebook.', 'Experience', 'of', 'using', 'this', 'is', 'just', 'great']),\n",
       "      dtype=object)"
      ]
     },
     "execution_count": 16,
     "metadata": {},
     "output_type": "execute_result"
    }
   ],
   "source": [
    "np.char.split(s)"
   ]
  },
  {
   "cell_type": "code",
   "execution_count": 17,
   "id": "ff1edae2-4246-4e0c-b05c-5f4d2ff37ea5",
   "metadata": {},
   "outputs": [
    {
     "data": {
      "text/plain": [
       "array(['S:M:H', 'H/M/S', 'H-S-M'], dtype='<U5')"
      ]
     },
     "execution_count": 17,
     "metadata": {},
     "output_type": "execute_result"
    }
   ],
   "source": [
    "s1 = \"SMH\"\n",
    "s2 = \"HMS\"\n",
    "s3 = \"HSM\"\n",
    "s4 = np.char.join([\":\",\"/\",\"-\"],[s1,s2,s3])\n",
    "s4"
   ]
  },
  {
   "cell_type": "code",
   "execution_count": 18,
   "id": "9fad653b-7517-43ab-94c8-11bec348915f",
   "metadata": {},
   "outputs": [
    {
     "data": {
      "text/plain": [
       "array(['S:M:H', 'S/M/H', 'S-M-H'], dtype='<U5')"
      ]
     },
     "execution_count": 18,
     "metadata": {},
     "output_type": "execute_result"
    }
   ],
   "source": [
    "s1 = \"SMH\"\n",
    "s2 = \"HMS\"\n",
    "s3 = \"HSM\"\n",
    "s4 = np.char.join([\":\",\"/\",\"-\"],[s1,s1,s1])\n",
    "s4"
   ]
  },
  {
   "cell_type": "code",
   "execution_count": 19,
   "id": "dc23c1af-5ecd-47c3-b387-f104e534b47d",
   "metadata": {},
   "outputs": [
    {
     "data": {
      "text/plain": [
       "array(\"HELLO thErE i'm using jupytEr notEbook. \", dtype='<U40')"
      ]
     },
     "execution_count": 19,
     "metadata": {},
     "output_type": "execute_result"
    }
   ],
   "source": [
    "s1 = \"HELLO there i'm using jupyter notebook. \"\n",
    "np.char.replace(s1, \"e\" ,\"E\")"
   ]
  },
  {
   "cell_type": "code",
   "execution_count": 20,
   "id": "225a44db-077f-4b48-9da9-cbb80c0e445e",
   "metadata": {},
   "outputs": [
    {
     "data": {
      "text/plain": [
       "array(12)"
      ]
     },
     "execution_count": 20,
     "metadata": {},
     "output_type": "execute_result"
    }
   ],
   "source": [
    "np.char.find(s1,\"i\")"
   ]
  },
  {
   "cell_type": "code",
   "execution_count": 21,
   "id": "41db5d39-b78b-4485-974f-ff8e63715e0b",
   "metadata": {},
   "outputs": [
    {
     "name": "stdin",
     "output_type": "stream",
     "text": [
      "Enter you alphabet to check in string  t\n"
     ]
    },
    {
     "name": "stdout",
     "output_type": "stream",
     "text": [
      "40\n",
      "6\n"
     ]
    }
   ],
   "source": [
    "s1 = \"HELLO there i'm using jupyter notebook. \"\n",
    "i = input(\"Enter you alphabet to check in string \")\n",
    "if i in s1:\n",
    "    c = np.char.index(s1,i)\n",
    "    print(len(s1))\n",
    "    print(c) \n",
    "else:\n",
    "    print(\"Not Awailable\")"
   ]
  },
  {
   "cell_type": "markdown",
   "id": "c21d1d87-5270-44ff-a9ea-e5f4163ec63b",
   "metadata": {},
   "source": [
    "# Broadcasting"
   ]
  },
  {
   "cell_type": "code",
   "execution_count": 22,
   "id": "ace64115-16e5-4845-9680-059367005863",
   "metadata": {},
   "outputs": [
    {
     "data": {
      "text/plain": [
       "array([1, 6, 7, 8, 5, 1, 7, 2, 7, 8])"
      ]
     },
     "execution_count": 22,
     "metadata": {},
     "output_type": "execute_result"
    }
   ],
   "source": [
    "a = np.random.randint(1,10,10)\n",
    "b = np.random.randint(1,10,10)\n",
    "a"
   ]
  },
  {
   "cell_type": "code",
   "execution_count": 23,
   "id": "f56c9f0c-0f12-4eb4-a20c-1d2e21a6bad0",
   "metadata": {},
   "outputs": [
    {
     "data": {
      "text/plain": [
       "array([ 9, 13, 16, 17,  8,  4,  9,  8, 10, 16])"
      ]
     },
     "execution_count": 23,
     "metadata": {},
     "output_type": "execute_result"
    }
   ],
   "source": [
    "a+b"
   ]
  },
  {
   "cell_type": "code",
   "execution_count": 24,
   "id": "406c2f62-0dca-4d3e-a31d-68eef73dce01",
   "metadata": {},
   "outputs": [
    {
     "data": {
      "text/plain": [
       "9"
      ]
     },
     "execution_count": 24,
     "metadata": {},
     "output_type": "execute_result"
    }
   ],
   "source": [
    "a[2]+2"
   ]
  },
  {
   "cell_type": "code",
   "execution_count": 25,
   "id": "64ee64de-e034-420d-be15-4152fda20b64",
   "metadata": {},
   "outputs": [
    {
     "data": {
      "text/plain": [
       "(1, 1)"
      ]
     },
     "execution_count": 25,
     "metadata": {},
     "output_type": "execute_result"
    }
   ],
   "source": [
    "a.ndim,b.ndim"
   ]
  },
  {
   "cell_type": "code",
   "execution_count": 26,
   "id": "08679662-6b31-4201-84be-548eb0db3af1",
   "metadata": {},
   "outputs": [
    {
     "data": {
      "text/plain": [
       "((10,), (10,))"
      ]
     },
     "execution_count": 26,
     "metadata": {},
     "output_type": "execute_result"
    }
   ],
   "source": [
    "a.shape,b.shape"
   ]
  },
  {
   "cell_type": "code",
   "execution_count": 27,
   "id": "a3409a59-8cb4-42b8-b6be-ef0aed92cfa5",
   "metadata": {},
   "outputs": [
    {
     "data": {
      "text/plain": [
       "array([ 9.,  8., 10., 10.,  4.,  4.,  3.,  7.,  4.,  9.])"
      ]
     },
     "execution_count": 27,
     "metadata": {},
     "output_type": "execute_result"
    }
   ],
   "source": [
    "a = np.ones((10))\n",
    "c = a+b.T\n",
    "c"
   ]
  },
  {
   "cell_type": "code",
   "execution_count": 28,
   "id": "39a60b2f-5dae-4086-b467-aca4645de6e2",
   "metadata": {},
   "outputs": [
    {
     "data": {
      "text/plain": [
       "array([ 9.,  8., 10., 10.,  4.,  4.,  3.,  7.,  4.,  9.])"
      ]
     },
     "execution_count": 28,
     "metadata": {},
     "output_type": "execute_result"
    }
   ],
   "source": [
    "np.ravel(c)"
   ]
  },
  {
   "cell_type": "code",
   "execution_count": 29,
   "id": "76af0be5-40cf-4d36-9921-eaec5ebc2a5f",
   "metadata": {},
   "outputs": [
    {
     "data": {
      "text/plain": [
       "array([[ 9.,  8.],\n",
       "       [10., 10.],\n",
       "       [ 4.,  4.],\n",
       "       [ 3.,  7.],\n",
       "       [ 4.,  9.]])"
      ]
     },
     "execution_count": 29,
     "metadata": {},
     "output_type": "execute_result"
    }
   ],
   "source": [
    "np.reshape(c,(5,2))"
   ]
  },
  {
   "cell_type": "code",
   "execution_count": 30,
   "id": "01b14b56-efb8-4205-b2bf-cf5a2bf15648",
   "metadata": {},
   "outputs": [
    {
     "data": {
      "text/plain": [
       "array([[[1., 1., 1.],\n",
       "        [1., 1., 1.],\n",
       "        [1., 1., 1.]],\n",
       "\n",
       "       [[1., 1., 1.],\n",
       "        [1., 1., 1.],\n",
       "        [1., 1., 1.]],\n",
       "\n",
       "       [[1., 1., 1.],\n",
       "        [1., 1., 1.],\n",
       "        [1., 1., 1.]]])"
      ]
     },
     "execution_count": 30,
     "metadata": {},
     "output_type": "execute_result"
    }
   ],
   "source": [
    "a = np.ones((3,3,3))\n",
    "a"
   ]
  },
  {
   "cell_type": "code",
   "execution_count": 32,
   "id": "96233a58-ac9a-4d5f-9807-25fd9ead84a1",
   "metadata": {},
   "outputs": [],
   "source": [
    "b = np.random.randint(1,10,12).reshape(4,3)\n",
    "c = np.random.randint(1,10,12).reshape(4,3)"
   ]
  },
  {
   "cell_type": "code",
   "execution_count": 33,
   "id": "4b9eb81f-b40f-4d62-84c8-73f1cb0529bd",
   "metadata": {},
   "outputs": [
    {
     "data": {
      "text/plain": [
       "array([[ 7, 42, 30],\n",
       "       [25,  6, 45],\n",
       "       [48,  8, 24],\n",
       "       [ 8, 15, 20]])"
      ]
     },
     "execution_count": 33,
     "metadata": {},
     "output_type": "execute_result"
    }
   ],
   "source": [
    "np.multiply(b,c)"
   ]
  },
  {
   "cell_type": "code",
   "execution_count": 34,
   "id": "60553d17-6c5e-42aa-b7a3-6c2a327bac25",
   "metadata": {},
   "outputs": [
    {
     "data": {
      "text/plain": [
       "array([[ 7, 42, 30],\n",
       "       [25,  6, 45],\n",
       "       [48,  8, 24],\n",
       "       [ 8, 15, 20]])"
      ]
     },
     "execution_count": 34,
     "metadata": {},
     "output_type": "execute_result"
    }
   ],
   "source": [
    "b*c"
   ]
  },
  {
   "cell_type": "code",
   "execution_count": 37,
   "id": "7109fcd8-866e-4b31-a5b8-befcdfbd5f1e",
   "metadata": {},
   "outputs": [
    {
     "data": {
      "text/plain": [
       "array([[ 7, 25, 48,  8],\n",
       "       [42,  6,  8, 15],\n",
       "       [30, 45, 24, 20]])"
      ]
     },
     "execution_count": 37,
     "metadata": {},
     "output_type": "execute_result"
    }
   ],
   "source": [
    "z = (b*c).T\n",
    "z"
   ]
  },
  {
   "cell_type": "code",
   "execution_count": 43,
   "id": "f020ef0a-84d0-4378-9ce0-8c5f6bd9cad8",
   "metadata": {},
   "outputs": [
    {
     "data": {
      "text/plain": [
       "array([ 7, 25, 48,  8, 42,  6,  8, 15, 30, 45, 24, 20])"
      ]
     },
     "execution_count": 43,
     "metadata": {},
     "output_type": "execute_result"
    }
   ],
   "source": [
    "z.flatten()"
   ]
  },
  {
   "cell_type": "code",
   "execution_count": 44,
   "id": "241c6b43-f56a-4e6d-a418-64856ec6b1d2",
   "metadata": {},
   "outputs": [
    {
     "data": {
      "text/plain": [
       "array([ 7, 25, 48,  8, 42,  6,  8, 15, 30, 45, 24, 20])"
      ]
     },
     "execution_count": 44,
     "metadata": {},
     "output_type": "execute_result"
    }
   ],
   "source": [
    "z.ravel()"
   ]
  },
  {
   "cell_type": "code",
   "execution_count": 45,
   "id": "fed4d16c-2958-4359-be59-63fb94b0a441",
   "metadata": {},
   "outputs": [
    {
     "data": {
      "text/plain": [
       "array([ 7, 25, 48,  8, 42,  6,  8, 15, 30, 45, 24, 20])"
      ]
     },
     "execution_count": 45,
     "metadata": {},
     "output_type": "execute_result"
    }
   ],
   "source": [
    "np.ravel(z)"
   ]
  },
  {
   "cell_type": "code",
   "execution_count": null,
   "id": "fd9e3ad5-df11-4a5d-b232-9f6a83fa5157",
   "metadata": {},
   "outputs": [],
   "source": []
  }
 ],
 "metadata": {
  "kernelspec": {
   "display_name": "Python 3 (ipykernel)",
   "language": "python",
   "name": "python3"
  },
  "language_info": {
   "codemirror_mode": {
    "name": "ipython",
    "version": 3
   },
   "file_extension": ".py",
   "mimetype": "text/x-python",
   "name": "python",
   "nbconvert_exporter": "python",
   "pygments_lexer": "ipython3",
   "version": "3.9.13"
  },
  "widgets": {
   "application/vnd.jupyter.widget-state+json": {
    "state": {},
    "version_major": 2,
    "version_minor": 0
   }
  }
 },
 "nbformat": 4,
 "nbformat_minor": 5
}
