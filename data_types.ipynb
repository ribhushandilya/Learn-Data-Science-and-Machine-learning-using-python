{
 "cells": [
  {
   "cell_type": "markdown",
   "id": "e341a8b7-4b09-40d3-8dd3-74065ba5d256",
   "metadata": {},
   "source": [
    "## Data Types In python\n",
    "#### List\n",
    "#### Tuple\n",
    "#### Set\n",
    "#### Dictionary\n",
    "#### Bool"
   ]
  },
  {
   "cell_type": "markdown",
   "id": "72c97a04-9b21-4326-8b44-a48352d3f3f5",
   "metadata": {},
   "source": [
    "### LIst"
   ]
  },
  {
   "cell_type": "code",
   "execution_count": 1,
   "id": "444ac4e6-cc20-4914-acfb-df66a0c4b023",
   "metadata": {},
   "outputs": [
    {
     "name": "stdout",
     "output_type": "stream",
     "text": [
      "[1, 2, 3, 4, 5]\n"
     ]
    }
   ],
   "source": [
    "# List\n",
    "ll1= [1,2,3,4,5]\n",
    "print(ll1)"
   ]
  },
  {
   "cell_type": "code",
   "execution_count": 37,
   "id": "60212bc5-0621-4fc5-9c65-8b2b83c58927",
   "metadata": {},
   "outputs": [
    {
     "data": {
      "text/plain": [
       "3"
      ]
     },
     "execution_count": 37,
     "metadata": {},
     "output_type": "execute_result"
    }
   ],
   "source": [
    "ll1[2]"
   ]
  },
  {
   "cell_type": "code",
   "execution_count": 39,
   "id": "d2500b2b-fd89-4602-b9b2-4767e10c1992",
   "metadata": {},
   "outputs": [
    {
     "data": {
      "text/plain": [
       "[3, 4, 5]"
      ]
     },
     "execution_count": 39,
     "metadata": {},
     "output_type": "execute_result"
    }
   ],
   "source": [
    "ll1[2:]"
   ]
  },
  {
   "cell_type": "code",
   "execution_count": 56,
   "id": "992e055d-aa50-48f4-b2c8-04e2217893b2",
   "metadata": {},
   "outputs": [
    {
     "name": "stdout",
     "output_type": "stream",
     "text": [
      "[1, 2, 2, 3, 3, 3, 3, 4, 4, 5, 5, 5, 7, 8, 9, 24, 67]\n"
     ]
    }
   ],
   "source": [
    "ll2 = [2,3,4,1,2,3,5,7,8,9,5,4,3,3,24,5,67]\n",
    "ll2.sort()\n",
    "print(ll2)"
   ]
  },
  {
   "cell_type": "code",
   "execution_count": 50,
   "id": "addfefb8-5e69-4d05-b145-b99d2d39a2a4",
   "metadata": {},
   "outputs": [
    {
     "name": "stdout",
     "output_type": "stream",
     "text": [
      "[1, 1, 2, 3, 3, 4, 5, 5, 5, 6, 9]\n"
     ]
    }
   ],
   "source": [
    "ll2[0::1 \n"
   ]
  },
  {
   "cell_type": "code",
   "execution_count": 2,
   "id": "45e28082-aed4-4db2-a2e0-515be494d69c",
   "metadata": {},
   "outputs": [
    {
     "name": "stdout",
     "output_type": "stream",
     "text": [
      "[[1, 2, 3, 8], [2, 3, 4, 2]]\n"
     ]
    },
    {
     "data": {
      "text/plain": [
       "[1, 2, 2, 3, 4, 78]"
      ]
     },
     "execution_count": 2,
     "metadata": {},
     "output_type": "execute_result"
    }
   ],
   "source": [
    "l1=[[1,2,3,8],[2,3,4,2]]\n",
    "print(l1)\n",
    "\n",
    "l2=[1,2,78,4,3,2]\n",
    "l2.sort()\n",
    "l2"
   ]
  },
  {
   "cell_type": "code",
   "execution_count": 3,
   "id": "7b8519b5-070b-4cf7-8590-122f651b6916",
   "metadata": {},
   "outputs": [
    {
     "data": {
      "text/plain": [
       "[78, 4, 3, 2, 2, 1]"
      ]
     },
     "execution_count": 3,
     "metadata": {},
     "output_type": "execute_result"
    }
   ],
   "source": [
    "l2.reverse()\n",
    "l2"
   ]
  },
  {
   "cell_type": "code",
   "execution_count": 4,
   "id": "2fd993a4-a144-4785-a579-cf95b56155a7",
   "metadata": {},
   "outputs": [
    {
     "data": {
      "text/plain": [
       "[78, 4, 3, 10, 2, 2, 1]"
      ]
     },
     "execution_count": 4,
     "metadata": {},
     "output_type": "execute_result"
    }
   ],
   "source": [
    "l2.insert(3,10)\n",
    "l2"
   ]
  },
  {
   "cell_type": "code",
   "execution_count": 5,
   "id": "14467877-659b-4bed-a4c9-2ce70bdebeb4",
   "metadata": {},
   "outputs": [
    {
     "data": {
      "text/plain": [
       "[[1, 2, 3, 8], [2, 3, 4, 2], 78, 4, 3, 10, 2, 2, 1]"
      ]
     },
     "execution_count": 5,
     "metadata": {},
     "output_type": "execute_result"
    }
   ],
   "source": [
    "l1=l1+l2  # concatination of lists\n",
    "l1\n"
   ]
  },
  {
   "cell_type": "code",
   "execution_count": 6,
   "id": "cbba6d19-29e6-40d1-8aa7-5a1ded8ea14d",
   "metadata": {},
   "outputs": [
    {
     "data": {
      "text/plain": [
       "[[1, 2, 3, 8], [2, 3, 4, 2], 78, 4, 3, 10, 2, 2, 1, 'hello']"
      ]
     },
     "execution_count": 6,
     "metadata": {},
     "output_type": "execute_result"
    }
   ],
   "source": [
    "l1.append(\"hello\")\n",
    "l1"
   ]
  },
  {
   "cell_type": "code",
   "execution_count": 7,
   "id": "f667f98f-8883-4557-b7bf-9bd59096cfb1",
   "metadata": {},
   "outputs": [
    {
     "data": {
      "text/plain": [
       "[[1, 2, 3, 8], [2, 3, 4, 2], 78, 'world', 4, 3, 10, 2, 2, 1, 'hello']"
      ]
     },
     "execution_count": 7,
     "metadata": {},
     "output_type": "execute_result"
    }
   ],
   "source": [
    "l1.insert(3, \"world\")\n",
    "l1"
   ]
  },
  {
   "cell_type": "code",
   "execution_count": 8,
   "id": "ec75173a-ca7c-4237-8dea-995ae5428cde",
   "metadata": {},
   "outputs": [],
   "source": [
    "l1.remove(2)"
   ]
  },
  {
   "cell_type": "code",
   "execution_count": 9,
   "id": "28fc8e4c-d88b-4c0e-8b5a-daa452406104",
   "metadata": {},
   "outputs": [
    {
     "data": {
      "text/plain": [
       "4"
      ]
     },
     "execution_count": 9,
     "metadata": {},
     "output_type": "execute_result"
    }
   ],
   "source": [
    "l1.pop(4)"
   ]
  },
  {
   "cell_type": "code",
   "execution_count": 10,
   "id": "b3803dfc-31e5-4e76-8c87-b91c580acf70",
   "metadata": {},
   "outputs": [
    {
     "data": {
      "text/plain": [
       "[1, 2, 3, 3, 23, 63, 85, 87, 435, 733, 2425]"
      ]
     },
     "execution_count": 10,
     "metadata": {},
     "output_type": "execute_result"
    }
   ],
   "source": [
    "l4 = [2,3,1,87,23,63,85,3,435,2425,733]\n",
    "l4.sort()\n",
    "l4"
   ]
  },
  {
   "cell_type": "code",
   "execution_count": 11,
   "id": "3e33ee6a-f27e-4c83-bd65-e7e775c341f1",
   "metadata": {},
   "outputs": [
    {
     "data": {
      "text/plain": [
       "2"
      ]
     },
     "execution_count": 11,
     "metadata": {},
     "output_type": "execute_result"
    }
   ],
   "source": [
    "l4.count(3)"
   ]
  },
  {
   "cell_type": "markdown",
   "id": "c0d66003-849b-48d6-85a8-4355b8c0f713",
   "metadata": {},
   "source": [
    "### Tuple\n",
    "#### Immutable ( Elements can not be changed )"
   ]
  },
  {
   "cell_type": "code",
   "execution_count": 12,
   "id": "c514d0a4-9dce-45fa-9bc1-83023b1bb06a",
   "metadata": {},
   "outputs": [
    {
     "name": "stdout",
     "output_type": "stream",
     "text": [
      "(1, 2, 3, 4, 5, 6)\n"
     ]
    }
   ],
   "source": [
    "t1 = (1,2,3,4,5,6)\n",
    "print(t1)"
   ]
  },
  {
   "cell_type": "code",
   "execution_count": 13,
   "id": "c701da2c-83f2-4f12-84f8-6ba3aaa6e025",
   "metadata": {},
   "outputs": [
    {
     "data": {
      "text/plain": [
       "(1, 2, 3)"
      ]
     },
     "execution_count": 13,
     "metadata": {},
     "output_type": "execute_result"
    }
   ],
   "source": [
    "t1[0:3] # slicing of tuple"
   ]
  },
  {
   "cell_type": "code",
   "execution_count": 14,
   "id": "67a26a4c-4800-48b9-bf8d-9e010d0f6897",
   "metadata": {},
   "outputs": [
    {
     "data": {
      "text/plain": [
       "4"
      ]
     },
     "execution_count": 14,
     "metadata": {},
     "output_type": "execute_result"
    }
   ],
   "source": [
    "t1[3] #Indexing of tuple"
   ]
  },
  {
   "cell_type": "code",
   "execution_count": 15,
   "id": "592afc04-b9e5-461d-8747-30aa7d5b4588",
   "metadata": {},
   "outputs": [
    {
     "data": {
      "text/plain": [
       "('h', 'e', 'llo')"
      ]
     },
     "execution_count": 15,
     "metadata": {},
     "output_type": "execute_result"
    }
   ],
   "source": [
    "t2 = (\"h\" , \"e\" ,\"llo\")\n",
    "t2"
   ]
  },
  {
   "cell_type": "code",
   "execution_count": 16,
   "id": "06f839e6-0d61-4fd5-a7d6-82c696fa786e",
   "metadata": {},
   "outputs": [
    {
     "data": {
      "text/plain": [
       "(1, 2, 3, 4, 5, 6, 'h', 'e', 'llo')"
      ]
     },
     "execution_count": 16,
     "metadata": {},
     "output_type": "execute_result"
    }
   ],
   "source": [
    "t1=t1+t2 # concatination of two tuples\n",
    "t1"
   ]
  },
  {
   "cell_type": "code",
   "execution_count": 17,
   "id": "168b8b99-74bd-42c7-bb4b-f9fe7b8bf25d",
   "metadata": {},
   "outputs": [
    {
     "data": {
      "text/plain": [
       "9"
      ]
     },
     "execution_count": 17,
     "metadata": {},
     "output_type": "execute_result"
    }
   ],
   "source": [
    "len(t1)"
   ]
  },
  {
   "cell_type": "code",
   "execution_count": 18,
   "id": "5061eeae-905b-4c08-957c-656d9e1ebce4",
   "metadata": {},
   "outputs": [
    {
     "data": {
      "text/plain": [
       "7"
      ]
     },
     "execution_count": 18,
     "metadata": {},
     "output_type": "execute_result"
    }
   ],
   "source": [
    "t1.index(\"e\")"
   ]
  },
  {
   "cell_type": "code",
   "execution_count": 19,
   "id": "d0d36994-d90d-47b6-9868-3a2f7be6d2f0",
   "metadata": {},
   "outputs": [
    {
     "data": {
      "text/plain": [
       "1"
      ]
     },
     "execution_count": 19,
     "metadata": {},
     "output_type": "execute_result"
    }
   ],
   "source": [
    "t1.count(3)"
   ]
  },
  {
   "cell_type": "markdown",
   "id": "9038ba75-6ca4-447e-9b50-9025b12cca75",
   "metadata": {},
   "source": [
    "### Dictionary"
   ]
  },
  {
   "cell_type": "code",
   "execution_count": 20,
   "id": "60d33ca4-cd65-4809-bcbf-49a7a37ad46d",
   "metadata": {},
   "outputs": [
    {
     "data": {
      "text/plain": [
       "{'jitu': 95.1, 'ribhu': 95.2, 'piyush': 95.3}"
      ]
     },
     "execution_count": 20,
     "metadata": {},
     "output_type": "execute_result"
    }
   ],
   "source": [
    "d1={'jitu':95.1,'ribhu':95.2,'piyush':95.3}\n",
    "d1"
   ]
  },
  {
   "cell_type": "code",
   "execution_count": 21,
   "id": "e30c5d16-7123-48d8-bb20-fe4cf836dbd7",
   "metadata": {},
   "outputs": [
    {
     "name": "stdout",
     "output_type": "stream",
     "text": [
      "dict_keys(['jitu', 'ribhu', 'piyush'])\n"
     ]
    },
    {
     "data": {
      "text/plain": [
       "dict_values([95.1, 95.2, 95.3])"
      ]
     },
     "execution_count": 21,
     "metadata": {},
     "output_type": "execute_result"
    }
   ],
   "source": [
    "print(d1.keys())\n",
    "d1.values()"
   ]
  },
  {
   "cell_type": "code",
   "execution_count": 22,
   "id": "b482dfd5-5d0b-4d07-96bf-0d7dc86b7f5f",
   "metadata": {},
   "outputs": [
    {
     "data": {
      "text/plain": [
       "{'jitu': 95.1, 'ribhu': 95.2, 'piyush': 95.3, 'ruchi': 95.4}"
      ]
     },
     "execution_count": 22,
     "metadata": {},
     "output_type": "execute_result"
    }
   ],
   "source": [
    "d1[\"ruchi\"]=95.4  #add key and value in dictionary\n",
    "d1"
   ]
  },
  {
   "cell_type": "code",
   "execution_count": 23,
   "id": "e7c5f12e-ff2a-48b8-8adf-399a8c7e2a0c",
   "metadata": {},
   "outputs": [
    {
     "data": {
      "text/plain": [
       "{'jitu': 95.4, 'ribhu': 95.2, 'piyush': 95.3, 'ruchi': 95.4}"
      ]
     },
     "execution_count": 23,
     "metadata": {},
     "output_type": "execute_result"
    }
   ],
   "source": [
    "d1[\"jitu\"]=95.4   # Update the existing value of a key\n",
    "d1"
   ]
  },
  {
   "cell_type": "code",
   "execution_count": 24,
   "id": "7d5515d3-48b9-4c66-b3c3-34add6ef9798",
   "metadata": {},
   "outputs": [
    {
     "name": "stdout",
     "output_type": "stream",
     "text": [
      "{'apple': 90, 'pinaple': 60, 'graps': 80}\n"
     ]
    },
    {
     "data": {
      "text/plain": [
       "{'mangoe': 150, 'guavava': 80, 'banana': 40}"
      ]
     },
     "execution_count": 24,
     "metadata": {},
     "output_type": "execute_result"
    }
   ],
   "source": [
    "d2={\"apple\":90,\"pinaple\":60,\"graps\":80}\n",
    "d3={\"mangoe\":150,\"guavava\":80,\"banana\":40}\n",
    "print(d2)\n",
    "d3"
   ]
  },
  {
   "cell_type": "code",
   "execution_count": 25,
   "id": "6dd19ac9-8bd1-40c5-96a4-b8cfc98a276d",
   "metadata": {},
   "outputs": [
    {
     "data": {
      "text/plain": [
       "{'apple': 90,\n",
       " 'pinaple': 60,\n",
       " 'graps': 80,\n",
       " 'mangoe': 150,\n",
       " 'guavava': 80,\n",
       " 'banana': 40}"
      ]
     },
     "execution_count": 25,
     "metadata": {},
     "output_type": "execute_result"
    }
   ],
   "source": [
    "d2.update(d3)\n",
    "d2"
   ]
  },
  {
   "cell_type": "code",
   "execution_count": 26,
   "id": "3aeb6d85-edf7-4859-9d3a-08ce735553f6",
   "metadata": {},
   "outputs": [
    {
     "data": {
      "text/plain": [
       "{'apple': 90, 'pinaple': 60, 'graps': 80, 'mangoe': 150}"
      ]
     },
     "execution_count": 26,
     "metadata": {},
     "output_type": "execute_result"
    }
   ],
   "source": [
    "d2.pop(\"guavava\")\n",
    "d2.pop(\"banana\")\n",
    "d2"
   ]
  },
  {
   "cell_type": "code",
   "execution_count": 27,
   "id": "10da85f9-7946-4001-b5bb-d3bce23e312e",
   "metadata": {},
   "outputs": [
    {
     "data": {
      "text/plain": [
       "dict_items([('apple', 90), ('pinaple', 60), ('graps', 80), ('mangoe', 150)])"
      ]
     },
     "execution_count": 27,
     "metadata": {},
     "output_type": "execute_result"
    }
   ],
   "source": [
    "d2.items()"
   ]
  },
  {
   "cell_type": "code",
   "execution_count": 28,
   "id": "4840fa86-9d77-42df-9890-650b845bd70d",
   "metadata": {},
   "outputs": [
    {
     "data": {
      "text/plain": [
       "('mangoe', 150)"
      ]
     },
     "execution_count": 28,
     "metadata": {},
     "output_type": "execute_result"
    }
   ],
   "source": [
    "d2.popitem()"
   ]
  },
  {
   "cell_type": "code",
   "execution_count": 29,
   "id": "3539a68a-8d3a-4335-8d5a-a6bb94d8f214",
   "metadata": {},
   "outputs": [
    {
     "data": {
      "text/plain": [
       "{}"
      ]
     },
     "execution_count": 29,
     "metadata": {},
     "output_type": "execute_result"
    }
   ],
   "source": [
    "d2.clear()\n",
    "d2"
   ]
  },
  {
   "cell_type": "markdown",
   "id": "569675c7-2fb5-484f-9ac8-1f48f449169c",
   "metadata": {},
   "source": [
    "## SET\n",
    "### Unordered, unindexed and duplicates are not allowed\n",
    "### Order of elements will be change every time on print"
   ]
  },
  {
   "cell_type": "code",
   "execution_count": 30,
   "id": "2d7a146d-c25e-42c5-af32-1c44e0594134",
   "metadata": {},
   "outputs": [
    {
     "data": {
      "text/plain": [
       "{1, 2, 3, '43', 'hello', 'world'}"
      ]
     },
     "execution_count": 30,
     "metadata": {},
     "output_type": "execute_result"
    }
   ],
   "source": [
    "s1 = {1,2,3,\"43\",\"hello\",\"world\"}\n",
    "s1"
   ]
  },
  {
   "cell_type": "code",
   "execution_count": 31,
   "id": "db276f2d-1617-429c-8cb1-6cfb9f7ded8f",
   "metadata": {},
   "outputs": [
    {
     "data": {
      "text/plain": [
       "{1, 10, 2, 3, '43', 'hello', 'world'}"
      ]
     },
     "execution_count": 31,
     "metadata": {},
     "output_type": "execute_result"
    }
   ],
   "source": [
    "s1.add(10)\n",
    "s1"
   ]
  },
  {
   "cell_type": "code",
   "execution_count": 32,
   "id": "b14b5ec3-7f98-43a6-8f32-7ff91a32b2ac",
   "metadata": {},
   "outputs": [
    {
     "data": {
      "text/plain": [
       "{1, 10, 13, 2, 20, 3, '43', 'hello', 'world'}"
      ]
     },
     "execution_count": 32,
     "metadata": {},
     "output_type": "execute_result"
    }
   ],
   "source": [
    "s1.update([10,20,13])\n",
    "s1"
   ]
  },
  {
   "cell_type": "code",
   "execution_count": 33,
   "id": "a30bb3f6-ed58-43c2-8daf-3633a8ed51a6",
   "metadata": {},
   "outputs": [
    {
     "name": "stdout",
     "output_type": "stream",
     "text": [
      "{'banana', 'apple', 'cherry', 'orange'}\n"
     ]
    }
   ],
   "source": [
    "fruits = {\"apple\", \"banana\", \"cherry\"}\n",
    "fruits.add(\"orange\")\n",
    "print(fruits)\n"
   ]
  },
  {
   "cell_type": "code",
   "execution_count": 34,
   "id": "2df12f81-4f31-4f1b-80cb-81fb2173c265",
   "metadata": {},
   "outputs": [
    {
     "name": "stdout",
     "output_type": "stream",
     "text": [
      "{'apple', 'cherry'}\n"
     ]
    }
   ],
   "source": [
    "fruits = {\"apple\", \"banana\", \"cherry\"}\n",
    "fruits.remove(\"banana\")\n",
    "print(fruits)  \n"
   ]
  },
  {
   "cell_type": "code",
   "execution_count": 35,
   "id": "8b86f72c-5a64-4c34-bdfd-d080c257ae63",
   "metadata": {},
   "outputs": [
    {
     "name": "stdout",
     "output_type": "stream",
     "text": [
      "{'apple', 'cherry'}\n"
     ]
    }
   ],
   "source": [
    "fruits = {\"apple\", \"banana\", \"cherry\"}\n",
    "fruits.remove(\"banana\")\n",
    "print(fruits)  \n"
   ]
  },
  {
   "cell_type": "code",
   "execution_count": 36,
   "id": "394e124e-5e40-43ac-bb9a-515dbef57682",
   "metadata": {},
   "outputs": [
    {
     "name": "stdout",
     "output_type": "stream",
     "text": [
      "set()\n"
     ]
    }
   ],
   "source": [
    "fruits = {\"apple\", \"banana\", \"cherry\"}\n",
    "fruits.clear()\n",
    "print(fruits) "
   ]
  },
  {
   "cell_type": "code",
   "execution_count": null,
   "id": "e39d3b69-3eeb-45e9-b8c3-fda90114cc18",
   "metadata": {},
   "outputs": [],
   "source": []
  }
 ],
 "metadata": {
  "kernelspec": {
   "display_name": "Python 3 (ipykernel)",
   "language": "python",
   "name": "python3"
  },
  "language_info": {
   "codemirror_mode": {
    "name": "ipython",
    "version": 3
   },
   "file_extension": ".py",
   "mimetype": "text/x-python",
   "name": "python",
   "nbconvert_exporter": "python",
   "pygments_lexer": "ipython3",
   "version": "3.9.13"
  },
  "widgets": {
   "application/vnd.jupyter.widget-state+json": {
    "state": {},
    "version_major": 2,
    "version_minor": 0
   }
  }
 },
 "nbformat": 4,
 "nbformat_minor": 5
}
